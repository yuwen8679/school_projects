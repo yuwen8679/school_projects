{
 "cells": [
  {
   "cell_type": "markdown",
   "metadata": {},
   "source": [
    "# Is there any decrease in each crime in the most dangerous cities in the past 10 years?"
   ]
  },
  {
   "cell_type": "markdown",
   "metadata": {},
   "source": [
    "## Student:Yu-Wen Chen"
   ]
  },
  {
   "cell_type": "markdown",
   "metadata": {},
   "source": [
    "## 1. Objective of the Proposed Research"
   ]
  },
  {
   "cell_type": "markdown",
   "metadata": {},
   "source": [
    "As the founder and CEO of a new startup dedicated to police enforcement optimization, I would like to help the officers across the nation to find out the most dangerous city in the US and how were the crime cases go in the past 10 years.  The way to pick out the most dangerous city is to find out that their mean of each crime is all higher than the total average. And using those cities' data to see how the crimes go in the 10 years and find out the kind of crimes that we need to be a focus on.\n",
    "\n",
    "In order to compare each city, we are going to use the per capita data from 2006 to 2015 and calculate the average of each city. Select those cities in which all of their crimes per capita are all higher than the total average. And find the average of these cities by years to see is there any decrease in each kind of crime in those 10 years."
   ]
  },
  {
   "cell_type": "markdown",
   "metadata": {},
   "source": [
    "## 2. Data Exploration"
   ]
  },
  {
   "cell_type": "markdown",
   "metadata": {},
   "source": [
    "### (1) Showing the type of this data"
   ]
  },
  {
   "cell_type": "code",
   "execution_count": null,
   "metadata": {},
   "outputs": [],
   "source": [
    "import numpy as np\n",
    "import pandas as pd\n",
    "from pandas import DataFrame, Series\n",
    "import statsmodels.api as sm\n",
    "#Imput the csv files\n",
    "data=pd.read_csv(\"/Users/user/Desktop/School documents/Semester 1/ANLT/report.csv\")\n",
    "\n",
    "#Use the dtype function to see the data types in each column\n",
    "data.dtypes"
   ]
  },
  {
   "cell_type": "markdown",
   "metadata": {},
   "source": [
    "##### Most of the data types are float64 which is numerical values."
   ]
  },
  {
   "cell_type": "markdown",
   "metadata": {},
   "source": [
    "### (2) Showing the first 10 rows of the data"
   ]
  },
  {
   "cell_type": "code",
   "execution_count": null,
   "metadata": {},
   "outputs": [],
   "source": [
    "#Use the head function to see the first 10 rows of the data\n",
    "data.head(10)"
   ]
  },
  {
   "cell_type": "markdown",
   "metadata": {},
   "source": [
    "##### The population in each police agency's jurisdiction is quite different."
   ]
  },
  {
   "cell_type": "markdown",
   "metadata": {},
   "source": [
    "### (3) In order to show the number of rows and columns in the data"
   ]
  },
  {
   "cell_type": "code",
   "execution_count": null,
   "metadata": {},
   "outputs": [],
   "source": [
    "#Use the shape function to see the number of rows and columns in the data\n",
    "print(data.shape)"
   ]
  },
  {
   "cell_type": "markdown",
   "metadata": {},
   "source": [
    "##### There are 2829 rows and 15 columns in this data"
   ]
  },
  {
   "cell_type": "markdown",
   "metadata": {},
   "source": [
    "### (4) Use describe function to see some information about these data"
   ]
  },
  {
   "cell_type": "code",
   "execution_count": null,
   "metadata": {},
   "outputs": [],
   "source": [
    "#Use the describe function to see the  mean, std, and IQR values for numeric columns\n",
    "data.describe()"
   ]
  },
  {
   "cell_type": "markdown",
   "metadata": {},
   "source": [
    "##### It seems to have more assaults crimes cases on average"
   ]
  },
  {
   "cell_type": "markdown",
   "metadata": {},
   "source": [
    "## 3. One column selection"
   ]
  },
  {
   "cell_type": "code",
   "execution_count": null,
   "metadata": {},
   "outputs": [],
   "source": [
    "#Select the data which is from 2006 to 2015\n",
    "data1=data.loc[(data[\"report_year\"] ==2015)| (data[\"report_year\"] == 2014) | (data[\"report_year\"] == 2013)| (data[\"report_year\"] == 2012) | (data[\"report_year\"] == 2011) | (data[\"report_year\"] == 2010)\n",
    "             | (data[\"report_year\"] == 2009)| (data[\"report_year\"] == 2008)| (data[\"report_year\"] == 2007)| (data[\"report_year\"] == 2006)]\n",
    "\n",
    "#Remove the United State row which is the total number of crimes \n",
    "data1=data1[data1.agency_jurisdiction != 'United States']\n",
    "\n",
    "#Select the columns of report_year, agency_jurisdiction, and crimes_percapita\n",
    "col1=data1[[\"report_year\",'agency_jurisdiction','crimes_percapita']]\n",
    "\n",
    "#Sort the data by crimes_percapita \n",
    "col1=col1.sort_values(by=['crimes_percapita'], ascending=False)\n",
    "\n",
    "#Print out the 10 highest crimes_percapita\n",
    "col1.head(10)"
   ]
  },
  {
   "cell_type": "markdown",
   "metadata": {},
   "source": [
    "####  St. Louis, MO\t and Detroit, MI have almost  the highest crimes per capita in this ten years."
   ]
  },
  {
   "cell_type": "markdown",
   "metadata": {},
   "source": [
    "## 4. Sort"
   ]
  },
  {
   "cell_type": "markdown",
   "metadata": {},
   "source": [
    " ##### Create a new dataset that only includes agency_jurisdiction, homicides_percapita, rapes_percapita, assaults_percapita, and robberies_percapita columns of all agency jurisdiction from 2006 to 2015."
   ]
  },
  {
   "cell_type": "code",
   "execution_count": null,
   "metadata": {
    "scrolled": true
   },
   "outputs": [],
   "source": [
    "#Remove other columns that we do not need\n",
    "data2=data1.drop(columns=['violent_crimes',\"agency_code\",\"population\",\"homicides\",\"rapes\",\"assaults\",\"robberies\",\"months_reported\",\"crimes_percapita\"])\n",
    "\n",
    "#Sort the data by robberies_percapita and assaults_percapita \n",
    "data2=data2.sort_values(by=['robberies_percapita','assaults_percapita'], ascending=False)\n",
    "\n",
    "#Remove the homicides_percapita column\n",
    "dataa=data2.drop(columns=['homicides_percapita'])\n",
    "\n",
    "#Print out the first 10 data after sort it\n",
    "dataa.head(10)"
   ]
  },
  {
   "cell_type": "markdown",
   "metadata": {},
   "source": [
    "##### Oakland, CA, Cleveland, OH, and  St. Louis, MO seems to have higher assaults  and robberies per capita"
   ]
  },
  {
   "cell_type": "markdown",
   "metadata": {},
   "source": [
    "## 5. Series"
   ]
  },
  {
   "cell_type": "markdown",
   "metadata": {},
   "source": [
    "#### (1) Calculate the average of each agency jurisdiction from 2006 to 2015"
   ]
  },
  {
   "cell_type": "code",
   "execution_count": null,
   "metadata": {},
   "outputs": [],
   "source": [
    "#Calculate the average of each item from 2006 to 2015\n",
    "cit = data2.groupby(['agency_jurisdiction']).sum()/10\n",
    "\n",
    "#Print out the first 10 result\n",
    "cit.head(10)"
   ]
  },
  {
   "cell_type": "markdown",
   "metadata": {},
   "source": [
    "#### The result above can let us know the mean per capita of each kind of crime in each city."
   ]
  },
  {
   "cell_type": "markdown",
   "metadata": {},
   "source": [
    "#### (2) Find out the average of each column from 2006 to 2015"
   ]
  },
  {
   "cell_type": "code",
   "execution_count": null,
   "metadata": {},
   "outputs": [],
   "source": [
    "#Calculate the average of each coulumn\n",
    "cit.mean(axis = 0, skipna = True)"
   ]
  },
  {
   "cell_type": "markdown",
   "metadata": {},
   "source": [
    "##### We can use the result to select agency jurisdiction which of their crimes per capita are all above the average. And the per capita of assaults and robberies seems to be much higher than the others."
   ]
  },
  {
   "cell_type": "markdown",
   "metadata": {},
   "source": [
    "#### (3) Find out the agency jurisdictions which of their crimes per capita are all above the average"
   ]
  },
  {
   "cell_type": "code",
   "execution_count": null,
   "metadata": {},
   "outputs": [],
   "source": [
    "#Select those cities which average of homicides per capita is higher than 12.126897 from 2006 to 2015\n",
    "ho=cit.loc[cit['homicides_percapita'] >=  12.126897]\n",
    "\n",
    "#Select those cities which average of rapes per capita is higher than 43.457632 from 2006 to 2015\n",
    "ra=cit.loc[cit['rapes_percapita'] >=  43.457632]\n",
    "\n",
    "#Select those cities which average of assaults per capita is higher than 461.325191 from 2006 to 2015\n",
    "ass=cit.loc[cit['assaults_percapita'] >=  461.325191]\n",
    "\n",
    "#Select those cities which average of robberies per capita is higher than 319.757382 from 2006 to 2015\n",
    "rob=cit.loc[cit['robberies_percapita'] >= 319.757382]\n",
    "\n",
    "\n",
    "\n",
    "\n",
    "#Collect the cities which homicides per capita and rapes per capita are both above the average from 2006 to 2015\n",
    "s1 = pd.merge(ho,ra,on='agency_jurisdiction', how='inner')\n",
    "\n",
    "#Collect the cities which assaults per capita is also above the average \n",
    "s1= pd.merge(s1,ass,on='agency_jurisdiction', how='inner')\n",
    "\n",
    "#Collect the cities which robberies per capita is above the average at the same time\n",
    "s1=pd.merge(s1,rob, on='agency_jurisdiction',how='inner')\n",
    "\n",
    "#Print out the cities which meet all conditions\n",
    "s1"
   ]
  },
  {
   "cell_type": "markdown",
   "metadata": {},
   "source": [
    "##### The result above is the most dangerous cities from 2006 to 2015 in the US which is Buffalo, Chicago, Detroit, Indianapolis, Kansas City, Memphis, Milwaukee, New Orleans, Oakland, Orlando, Philadelphia, and St. Louis."
   ]
  },
  {
   "cell_type": "markdown",
   "metadata": {},
   "source": [
    "#### (4) Select the most dangerous cities from 2006 to 2015 "
   ]
  },
  {
   "cell_type": "code",
   "execution_count": null,
   "metadata": {
    "scrolled": true
   },
   "outputs": [],
   "source": [
    "#Select the 12 cities and named it as data3\n",
    "data3=data2.loc[(data2[\"agency_jurisdiction\"] == \"New Orleans, LA\") \n",
    "                | (data2[\"agency_jurisdiction\"] == \"Detroit, MI\") \n",
    "                | (data2[\"agency_jurisdiction\"] == \"Memphis, TN\")\n",
    "                | (data2[\"agency_jurisdiction\"] == \"Milwaukee, WI\")\n",
    "                | (data2[\"agency_jurisdiction\"] == \"Oakland, CA\")\n",
    "                | (data2[\"agency_jurisdiction\"] == \"Kansas City, MO\")\n",
    "                | (data2[\"agency_jurisdiction\"] == \"Indianapolis, IN\")\n",
    "                | (data2[\"agency_jurisdiction\"] == \"Orlando, FL\")\n",
    "                | (data2[\"agency_jurisdiction\"] == \"Buffalo, NY\") \n",
    "                | (data2[\"agency_jurisdiction\"] == \"Philadelphia, PA\")\n",
    "                | (data2[\"agency_jurisdiction\"] == \"St. Louis, MO\")\n",
    "                | (data2[\"agency_jurisdiction\"] == \"Chicago, IL\")]\n",
    "\n",
    "#Print out the first 10 row of the data\n",
    "data3.head(10)"
   ]
  },
  {
   "cell_type": "markdown",
   "metadata": {},
   "source": [
    "##### The result above is the data of the 12 most dangerous city from 2006 to 2015"
   ]
  },
  {
   "cell_type": "markdown",
   "metadata": {},
   "source": [
    "#### (5) Calculate the average of each of the crimes per capita in each year"
   ]
  },
  {
   "cell_type": "code",
   "execution_count": null,
   "metadata": {},
   "outputs": [],
   "source": [
    "#Sum up all of the items by years and divide by 12\n",
    "year1 = data3.groupby(['report_year']).sum()/12\n",
    "\n",
    "#Print out the result\n",
    "year1"
   ]
  },
  {
   "cell_type": "markdown",
   "metadata": {},
   "source": [
    "##### We did not find any significant difference in each year by the table."
   ]
  },
  {
   "cell_type": "markdown",
   "metadata": {},
   "source": [
    "## 6. Plot"
   ]
  },
  {
   "cell_type": "markdown",
   "metadata": {},
   "source": [
    "#### Plot the average of each crime per capita of the 12 cities from 2006 to 2015"
   ]
  },
  {
   "cell_type": "code",
   "execution_count": null,
   "metadata": {
    "scrolled": true
   },
   "outputs": [],
   "source": [
    "import matplotlib.pyplot as plt\n",
    "\n",
    "from matplotlib.font_manager import FontProperties\n",
    "\n",
    "#Use Year as X-axis data\n",
    "year = [2006,2007,2008,2009,2010,2011,2012,2013,2014,2015]\n",
    "#Select the column of homicides_percapita and called it as homicides\n",
    "homicides=year1[\"homicides_percapita\"]\n",
    "\n",
    "#Select the column of \"rapes_percapita and called it as rapes\n",
    "rapes=year1[\"rapes_percapita\"]\n",
    "\n",
    "#Select the column of assaults_percapita and called it as assa\n",
    "assa=year1[\"assaults_percapita\"]\n",
    "\n",
    "#Select the column of robberies_percapita and called it as robb\n",
    "robb=year1[\"robberies_percapita\"]\n",
    "\n",
    "\n",
    "\n",
    "#Set the plot size\n",
    "plt.figure(figsize=(15,10),dpi=100,linewidth = 2)\n",
    "\n",
    "#Put the line on the plot which represent the homicides per capita\n",
    "plt.plot(year,homicides,'s-',color = 'r', label=\"homicides\")\n",
    "\n",
    "#Add the line on the plot which represent the rapes per capita\n",
    "plt.plot(year,rapes,'o-',color = 'g', label=\"rapes\")\n",
    "\n",
    "#Add the line on the plot which represent the assaults per capita\n",
    "plt.plot(year,assa,'o-',color = 'b', label=\"assaults\")\n",
    "\n",
    "#Add the line on the plot which represent the robberies per capita\n",
    "plt.plot(year,robb,'o-',color = 'm', label=\"robberies\")\n",
    "\n",
    "\n",
    "\n",
    "\n",
    "#Set the scale font size of the x-axis\n",
    "plt.xticks(fontsize=10)\n",
    "\n",
    "#Set the scale font size of the y-axis\n",
    "plt.yticks(fontsize=10)\n",
    "\n",
    "#Add label for the x-axis\n",
    "plt.xlabel(\"year\", fontsize=15, labelpad = 15)\n",
    "\n",
    "#Add label for the y-axis\n",
    "plt.ylabel(\"per capita\", fontsize=15, labelpad = 20)\n",
    "\n",
    "#Add the legend \n",
    "plt.legend(loc = \"center left\", fontsize=10)\n",
    "\n",
    "#Add the plot title\n",
    "plt.title(\"Average of each crime per capita of the 12 cities from 2006-2015\", fontsize=15, x=0.5, y=1.03)"
   ]
  },
  {
   "cell_type": "markdown",
   "metadata": {},
   "source": [
    "##### According to the result, the assaults and the robberies' per capita seem to gets lower in the 10 years. But the rapes' per capita gets even higher and the homicides almost maintain on the same per capita."
   ]
  },
  {
   "cell_type": "markdown",
   "metadata": {},
   "source": [
    "## 7. Summary"
   ]
  },
  {
   "cell_type": "markdown",
   "metadata": {},
   "source": [
    "According to the result, Buffalo, Chicago, Detroit, Indianapolis, Kansas City, Memphis, Milwaukee, New Orleans, Oakland, Orlando, Philadelphia, and St. Louis are the places we need to be the focus on improving public order. And for those 12 cities, the assaults and the robberies' per capita seem to gets lower in the 10 years. But the rapes' per capita gets even higher and the homicides almost maintain on the same per capita. As the CEO of a new startup dedicated to police enforcement optimization, I would like to help the officers to focus on decrease the cases of rapes and homicides in these cities. Even though their per capita was not as high as the other cases, we still have the responsibility to narrow it down."
   ]
  },
  {
   "cell_type": "markdown",
   "metadata": {},
   "source": [
    "## 8. Recommendations"
   ]
  },
  {
   "cell_type": "markdown",
   "metadata": {},
   "source": [
    "After saw the result, I highly recommend the government of the United States can add more police force to  Buffalo, Chicago, Detroit, Indianapolis, Kansas City, Memphis, Milwaukee, New Orleans, Oakland, Orlando, Philadelphia, and St. Louis. And the police in these cities could upgrade their security to decrease and prevent those crimes happened. "
   ]
  }
 ],
 "metadata": {
  "kernelspec": {
   "display_name": "Python 3 (ipykernel)",
   "language": "python",
   "name": "python3"
  },
  "language_info": {
   "codemirror_mode": {
    "name": "ipython",
    "version": 3
   },
   "file_extension": ".py",
   "mimetype": "text/x-python",
   "name": "python",
   "nbconvert_exporter": "python",
   "pygments_lexer": "ipython3",
   "version": "3.8.12"
  }
 },
 "nbformat": 4,
 "nbformat_minor": 4
}
