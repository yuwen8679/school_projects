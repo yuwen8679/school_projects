{
 "cells": [
  {
   "cell_type": "markdown",
   "metadata": {},
   "source": [
    "# Do those people with confidence tend to be less affected by others and focus on their own decision?"
   ]
  },
  {
   "cell_type": "markdown",
   "metadata": {},
   "source": [
    "## Student:Yu-Wen Chen"
   ]
  },
  {
   "cell_type": "markdown",
   "metadata": {},
   "source": [
    "## 1. Objective of the Proposed Research"
   ]
  },
  {
   "cell_type": "markdown",
   "metadata": {},
   "source": [
    "Everyone wants to be a confident person and it seems that all those people with confidence know what exactly they want and won't be distracted by other things. They rarely care about what other people think about them and only focus on their own life. Thus, we want to know is there any relation between confidence and focus on the gold. Do those people with confidence tend to be less affected by others and focus on their own decision? \n",
    "We are going to use the question \"You rarely worry if you made a good impression on someone you met.\" as an indicator of a confident person\". And compare with the following questions \"You always know exactly what you want\", \"You are dedicated and focused on your goals, only rarely getting sidetracked\", \"People can rarely upset you\", \"When you know someone thinks highly of you, you also wonder how long it will be until they become disappointed in you\", \"You rarely think back on the choices you made and wonder what you could have done differently\" as those people who focus on their direction to find the relationship between them."
   ]
  },
  {
   "cell_type": "markdown",
   "metadata": {},
   "source": [
    "## 2. Data Exploration"
   ]
  },
  {
   "cell_type": "markdown",
   "metadata": {},
   "source": [
    "### (1) Showing the first 5 rows in this data"
   ]
  },
  {
   "cell_type": "code",
   "execution_count": 1,
   "metadata": {
    "scrolled": false
   },
   "outputs": [
    {
     "data": {
      "text/html": [
       "<table>\n",
       "<thead><tr><th scope=col>You.enjoy.vibrant.social.events.with.lots.of.peopleYour.response.should.be.a.decimal.number.from.1..strongly.disagree..to.10..strongly.agree...for.example.3.8.Based.on.https...www.16personalities.com.free.personality.test</th><th scope=col>You.often.spend.time.exploring.unrealistic.yet.intriguing.ideas.Your.response.should.be.a.decimal.number.from.1..strongly.disagree..to.10..strongly.agree...for.example.3.8.Based.on.https...www.16personalities.com.free.personality.test</th><th scope=col>Your.travel.plans.are.more.likely.to.look.like.a.rough.list.of.ideas.than.a.detailed.itinerary.Your.response.should.be.a.decimal.number.from.1..strongly.disagree..to.10..strongly.agree...for.example.3.8.Based.on.https...www.16personalities.com.free.personality.test</th><th scope=col>You.often.think.about.what.you.should.have.said.in.a.conversation.long.after.it.has.taken.place.Your.response.should.be.a.decimal.number.from.1..strongly.disagree..to.10..strongly.agree...for.example.3.8.Based.on.https...www.16personalities.com.free.personality.test</th><th scope=col>If.your.friend.is.sad.about.something..your.first.instinct.is.to.support.them.emotionally..not.try.to.solve.their.problem.Your.response.should.be.a.decimal.number.from.1..strongly.disagree..to.10..strongly.agree...for.example.3.8.Based.on.https...www.16personalities.com.free.personality.test</th><th scope=col>People.can.rarely.upset.you.Your.response.should.be.a.decimal.number.from.1..strongly.disagree..to.10..strongly.agree...for.example.3.8.Based.on.https...www.16personalities.com.free.personality.test</th><th scope=col>You.often.rely.on.other.people.to.be.the.ones.to.start.a.conversation.and.keep.it.going.Your.response.should.be.a.decimal.number.from.1..strongly.disagree..to.10..strongly.agree...for.example.3.8.Based.on.https...www.16personalities.com.free.personality.test</th><th scope=col>If.you.have.to.temporarily.put.your.plans.on.hold..you.make.sure.it.is.your.top.priority.to.get.back.on.track.as.soon.as.possible.Your.response.should.be.a.decimal.number.from.1..strongly.disagree..to.10..strongly.agree...for.example.3.8.Based.on.https...www.16personalities.com.free.personality.test</th><th scope=col>You.rarely.worry.if.you.made.a.good.impression.on.someone.you.met.Your.response.should.be.a.decimal.number.from.1..strongly.disagree..to.10..strongly.agree...for.example.3.8.Based.on.https...www.16personalities.com.free.personality.test</th><th scope=col>It.would.be.a.challenge.for.you.to.spend.the.whole.weekend.all.by.yourself.without.feeling.bored.Your.response.should.be.a.decimal.number.from.1..strongly.disagree..to.10..strongly.agree...for.example.3.8.Based.on.https...www.16personalities.com.free.personality.test</th><th scope=col>...</th><th scope=col>You.feel.comfortable.just.walking.up.to.someone.you.find.interesting.and.striking.up.a.conversation.Your.response.should.be.a.decimal.number.from.1..strongly.disagree..to.10..strongly.agree...for.example.3.8.Based.on.https...www.16personalities.com.free.personality.test</th><th scope=col>Even.when.you.have.planned.a.particular.daily.routine..you.usually.just.end.up.doing.what.you.feel.like.at.any.given.moment.Your.response.should.be.a.decimal.number.from.1..strongly.disagree..to.10..strongly.agree...for.example.3.8.Based.on.https...www.16personalities.com.free.personality.test</th><th scope=col>Your.mood.can.change.very.quickly.Your.response.should.be.a.decimal.number.from.1..strongly.disagree..to.10..strongly.agree...for.example.3.8.Based.on.https...www.16personalities.com.free.personality.test</th><th scope=col>You.often.contemplate.the.reasons.for.human.existence.or.the.meaning.of.life.Your.response.should.be.a.decimal.number.from.1..strongly.disagree..to.10..strongly.agree...for.example.3.8.Based.on.https...www.16personalities.com.free.personality.test</th><th scope=col>You.often.talk.about.your.own.feelings.and.emotions..Your.response.should.be.a.decimal.number.from.1..strongly.disagree..to.10..strongly.agree...for.example.3.8.Based.on.https...www.16personalities.com.free.personality.test</th><th scope=col>You.rarely.dwell.on.your.regrets.Your.response.should.be.a.decimal.number.from.1..strongly.disagree..to.10..strongly.agree...for.example.3.8.Based.on.https...www.16personalities.com.free.personality.test</th><th scope=col>You.see.yourself.as.more.of.a.realist.than.a.visionary..Your.response.should.be.a.decimal.number.from.1..strongly.disagree..to.10..strongly.agree...for.example.3.8.Based.on.https...www.16personalities.com.free.personality.test</th><th scope=col>You.find.it.easy.to.empathize.with.a.person.who.has.gone.through.something.you.never.have.Your.response.should.be.a.decimal.number.from.1..strongly.disagree..to.10..strongly.agree...for.example.3.8.Based.on.https...www.16personalities.com.free.personality.test</th><th scope=col>Your.emotions.control.you.more.than.you.control.them.Your.response.should.be.a.decimal.number.from.1..strongly.disagree..to.10..strongly.agree...for.example.3.8.Based.on.https...www.16personalities.com.free.personality.test</th><th scope=col>You.rarely.feel.insecure.Your.response.should.be.a.decimal.number.from.1..strongly.disagree..to.10..strongly.agree...for.example.3.8.Based.on.https...www.16personalities.com.free.personality.test</th></tr></thead>\n",
       "<tbody>\n",
       "\t<tr><td>3.0     </td><td>8.6     </td><td>6.3     </td><td>9.9     </td><td>7.200000</td><td>8.6     </td><td>10.00   </td><td> 8.60   </td><td>9.00    </td><td>1.0     </td><td>...     </td><td>6.90    </td><td>7.4     </td><td>1.2     </td><td> 9.9    </td><td>10.00   </td><td>7.5     </td><td>5.5     </td><td>8.60    </td><td>4.70    </td><td>8.90    </td></tr>\n",
       "\t<tr><td>6.5     </td><td>4.5     </td><td>3.2     </td><td>8.3     </td><td>4.560000</td><td>3.8     </td><td> 2.11   </td><td> 9.81   </td><td>7.55    </td><td>8.3     </td><td>...     </td><td>4.36    </td><td>5.33    </td><td>6.3     </td><td> 8.0    </td><td> 7.65   </td><td>        </td><td>8.3     </td><td>6.66    </td><td>5.33    </td><td>4.89    </td></tr>\n",
       "\t<tr><td>3.0     </td><td>7.0     </td><td>1.0     </td><td>7.0     </td><td>3.000000</td><td>5.0     </td><td> 8.00   </td><td> 9.00   </td><td>5.00    </td><td>2.0     </td><td>...     </td><td>5.00    </td><td>6       </td><td>2.0     </td><td> 2.0    </td><td> 3.00   </td><td>5       </td><td>3.0     </td><td>5.00    </td><td>5.00    </td><td>7.00    </td></tr>\n",
       "\t<tr><td>3.8     </td><td>4.7     </td><td>4.0     </td><td>8.0     </td><td>3.000000</td><td>3.0     </td><td> 9.00   </td><td>10.00   </td><td>4.50    </td><td>1.0     </td><td>...     </td><td>6.50    </td><td>5       </td><td>9.0     </td><td> 1.0    </td><td> 2.50   </td><td>5       </td><td>7.0     </td><td>8.00    </td><td>7.00    </td><td>1.00    </td></tr>\n",
       "\t<tr><td>4.0     </td><td>9.7     </td><td>3.3     </td><td>4.6     </td><td>7.876543</td><td>9.9     </td><td> 0.40   </td><td> 7.20   </td><td>4.64    </td><td>2.2     </td><td>...     </td><td>9.60    </td><td>5.5     </td><td>1.2     </td><td>10.0    </td><td> 2.00   </td><td>4       </td><td>1.0     </td><td>6.12    </td><td>1.91    </td><td>2.00    </td></tr>\n",
       "</tbody>\n",
       "</table>\n"
      ],
      "text/latex": [
       "\\begin{tabular}{r|llllllllllllllllllllllllllllllllllllllllllllllllll}\n",
       " You.enjoy.vibrant.social.events.with.lots.of.peopleYour.response.should.be.a.decimal.number.from.1..strongly.disagree..to.10..strongly.agree...for.example.3.8.Based.on.https...www.16personalities.com.free.personality.test & You.often.spend.time.exploring.unrealistic.yet.intriguing.ideas.Your.response.should.be.a.decimal.number.from.1..strongly.disagree..to.10..strongly.agree...for.example.3.8.Based.on.https...www.16personalities.com.free.personality.test & Your.travel.plans.are.more.likely.to.look.like.a.rough.list.of.ideas.than.a.detailed.itinerary.Your.response.should.be.a.decimal.number.from.1..strongly.disagree..to.10..strongly.agree...for.example.3.8.Based.on.https...www.16personalities.com.free.personality.test & You.often.think.about.what.you.should.have.said.in.a.conversation.long.after.it.has.taken.place.Your.response.should.be.a.decimal.number.from.1..strongly.disagree..to.10..strongly.agree...for.example.3.8.Based.on.https...www.16personalities.com.free.personality.test & If.your.friend.is.sad.about.something..your.first.instinct.is.to.support.them.emotionally..not.try.to.solve.their.problem.Your.response.should.be.a.decimal.number.from.1..strongly.disagree..to.10..strongly.agree...for.example.3.8.Based.on.https...www.16personalities.com.free.personality.test & People.can.rarely.upset.you.Your.response.should.be.a.decimal.number.from.1..strongly.disagree..to.10..strongly.agree...for.example.3.8.Based.on.https...www.16personalities.com.free.personality.test & You.often.rely.on.other.people.to.be.the.ones.to.start.a.conversation.and.keep.it.going.Your.response.should.be.a.decimal.number.from.1..strongly.disagree..to.10..strongly.agree...for.example.3.8.Based.on.https...www.16personalities.com.free.personality.test & If.you.have.to.temporarily.put.your.plans.on.hold..you.make.sure.it.is.your.top.priority.to.get.back.on.track.as.soon.as.possible.Your.response.should.be.a.decimal.number.from.1..strongly.disagree..to.10..strongly.agree...for.example.3.8.Based.on.https...www.16personalities.com.free.personality.test & You.rarely.worry.if.you.made.a.good.impression.on.someone.you.met.Your.response.should.be.a.decimal.number.from.1..strongly.disagree..to.10..strongly.agree...for.example.3.8.Based.on.https...www.16personalities.com.free.personality.test & It.would.be.a.challenge.for.you.to.spend.the.whole.weekend.all.by.yourself.without.feeling.bored.Your.response.should.be.a.decimal.number.from.1..strongly.disagree..to.10..strongly.agree...for.example.3.8.Based.on.https...www.16personalities.com.free.personality.test & ... & You.feel.comfortable.just.walking.up.to.someone.you.find.interesting.and.striking.up.a.conversation.Your.response.should.be.a.decimal.number.from.1..strongly.disagree..to.10..strongly.agree...for.example.3.8.Based.on.https...www.16personalities.com.free.personality.test & Even.when.you.have.planned.a.particular.daily.routine..you.usually.just.end.up.doing.what.you.feel.like.at.any.given.moment.Your.response.should.be.a.decimal.number.from.1..strongly.disagree..to.10..strongly.agree...for.example.3.8.Based.on.https...www.16personalities.com.free.personality.test & Your.mood.can.change.very.quickly.Your.response.should.be.a.decimal.number.from.1..strongly.disagree..to.10..strongly.agree...for.example.3.8.Based.on.https...www.16personalities.com.free.personality.test & You.often.contemplate.the.reasons.for.human.existence.or.the.meaning.of.life.Your.response.should.be.a.decimal.number.from.1..strongly.disagree..to.10..strongly.agree...for.example.3.8.Based.on.https...www.16personalities.com.free.personality.test & You.often.talk.about.your.own.feelings.and.emotions..Your.response.should.be.a.decimal.number.from.1..strongly.disagree..to.10..strongly.agree...for.example.3.8.Based.on.https...www.16personalities.com.free.personality.test & You.rarely.dwell.on.your.regrets.Your.response.should.be.a.decimal.number.from.1..strongly.disagree..to.10..strongly.agree...for.example.3.8.Based.on.https...www.16personalities.com.free.personality.test & You.see.yourself.as.more.of.a.realist.than.a.visionary..Your.response.should.be.a.decimal.number.from.1..strongly.disagree..to.10..strongly.agree...for.example.3.8.Based.on.https...www.16personalities.com.free.personality.test & You.find.it.easy.to.empathize.with.a.person.who.has.gone.through.something.you.never.have.Your.response.should.be.a.decimal.number.from.1..strongly.disagree..to.10..strongly.agree...for.example.3.8.Based.on.https...www.16personalities.com.free.personality.test & Your.emotions.control.you.more.than.you.control.them.Your.response.should.be.a.decimal.number.from.1..strongly.disagree..to.10..strongly.agree...for.example.3.8.Based.on.https...www.16personalities.com.free.personality.test & You.rarely.feel.insecure.Your.response.should.be.a.decimal.number.from.1..strongly.disagree..to.10..strongly.agree...for.example.3.8.Based.on.https...www.16personalities.com.free.personality.test\\\\\n",
       "\\hline\n",
       "\t 3.0      & 8.6      & 6.3      & 9.9      & 7.200000 & 8.6      & 10.00    &  8.60    & 9.00     & 1.0      & ...      & 6.90     & 7.4      & 1.2      &  9.9     & 10.00    & 7.5      & 5.5      & 8.60     & 4.70     & 8.90    \\\\\n",
       "\t 6.5      & 4.5      & 3.2      & 8.3      & 4.560000 & 3.8      &  2.11    &  9.81    & 7.55     & 8.3      & ...      & 4.36     & 5.33     & 6.3      &  8.0     &  7.65    &          & 8.3      & 6.66     & 5.33     & 4.89    \\\\\n",
       "\t 3.0      & 7.0      & 1.0      & 7.0      & 3.000000 & 5.0      &  8.00    &  9.00    & 5.00     & 2.0      & ...      & 5.00     & 6        & 2.0      &  2.0     &  3.00    & 5        & 3.0      & 5.00     & 5.00     & 7.00    \\\\\n",
       "\t 3.8      & 4.7      & 4.0      & 8.0      & 3.000000 & 3.0      &  9.00    & 10.00    & 4.50     & 1.0      & ...      & 6.50     & 5        & 9.0      &  1.0     &  2.50    & 5        & 7.0      & 8.00     & 7.00     & 1.00    \\\\\n",
       "\t 4.0      & 9.7      & 3.3      & 4.6      & 7.876543 & 9.9      &  0.40    &  7.20    & 4.64     & 2.2      & ...      & 9.60     & 5.5      & 1.2      & 10.0     &  2.00    & 4        & 1.0      & 6.12     & 1.91     & 2.00    \\\\\n",
       "\\end{tabular}\n"
      ],
      "text/markdown": [
       "\n",
       "| You.enjoy.vibrant.social.events.with.lots.of.peopleYour.response.should.be.a.decimal.number.from.1..strongly.disagree..to.10..strongly.agree...for.example.3.8.Based.on.https...www.16personalities.com.free.personality.test | You.often.spend.time.exploring.unrealistic.yet.intriguing.ideas.Your.response.should.be.a.decimal.number.from.1..strongly.disagree..to.10..strongly.agree...for.example.3.8.Based.on.https...www.16personalities.com.free.personality.test | Your.travel.plans.are.more.likely.to.look.like.a.rough.list.of.ideas.than.a.detailed.itinerary.Your.response.should.be.a.decimal.number.from.1..strongly.disagree..to.10..strongly.agree...for.example.3.8.Based.on.https...www.16personalities.com.free.personality.test | You.often.think.about.what.you.should.have.said.in.a.conversation.long.after.it.has.taken.place.Your.response.should.be.a.decimal.number.from.1..strongly.disagree..to.10..strongly.agree...for.example.3.8.Based.on.https...www.16personalities.com.free.personality.test | If.your.friend.is.sad.about.something..your.first.instinct.is.to.support.them.emotionally..not.try.to.solve.their.problem.Your.response.should.be.a.decimal.number.from.1..strongly.disagree..to.10..strongly.agree...for.example.3.8.Based.on.https...www.16personalities.com.free.personality.test | People.can.rarely.upset.you.Your.response.should.be.a.decimal.number.from.1..strongly.disagree..to.10..strongly.agree...for.example.3.8.Based.on.https...www.16personalities.com.free.personality.test | You.often.rely.on.other.people.to.be.the.ones.to.start.a.conversation.and.keep.it.going.Your.response.should.be.a.decimal.number.from.1..strongly.disagree..to.10..strongly.agree...for.example.3.8.Based.on.https...www.16personalities.com.free.personality.test | If.you.have.to.temporarily.put.your.plans.on.hold..you.make.sure.it.is.your.top.priority.to.get.back.on.track.as.soon.as.possible.Your.response.should.be.a.decimal.number.from.1..strongly.disagree..to.10..strongly.agree...for.example.3.8.Based.on.https...www.16personalities.com.free.personality.test | You.rarely.worry.if.you.made.a.good.impression.on.someone.you.met.Your.response.should.be.a.decimal.number.from.1..strongly.disagree..to.10..strongly.agree...for.example.3.8.Based.on.https...www.16personalities.com.free.personality.test | It.would.be.a.challenge.for.you.to.spend.the.whole.weekend.all.by.yourself.without.feeling.bored.Your.response.should.be.a.decimal.number.from.1..strongly.disagree..to.10..strongly.agree...for.example.3.8.Based.on.https...www.16personalities.com.free.personality.test | ... | You.feel.comfortable.just.walking.up.to.someone.you.find.interesting.and.striking.up.a.conversation.Your.response.should.be.a.decimal.number.from.1..strongly.disagree..to.10..strongly.agree...for.example.3.8.Based.on.https...www.16personalities.com.free.personality.test | Even.when.you.have.planned.a.particular.daily.routine..you.usually.just.end.up.doing.what.you.feel.like.at.any.given.moment.Your.response.should.be.a.decimal.number.from.1..strongly.disagree..to.10..strongly.agree...for.example.3.8.Based.on.https...www.16personalities.com.free.personality.test | Your.mood.can.change.very.quickly.Your.response.should.be.a.decimal.number.from.1..strongly.disagree..to.10..strongly.agree...for.example.3.8.Based.on.https...www.16personalities.com.free.personality.test | You.often.contemplate.the.reasons.for.human.existence.or.the.meaning.of.life.Your.response.should.be.a.decimal.number.from.1..strongly.disagree..to.10..strongly.agree...for.example.3.8.Based.on.https...www.16personalities.com.free.personality.test | You.often.talk.about.your.own.feelings.and.emotions..Your.response.should.be.a.decimal.number.from.1..strongly.disagree..to.10..strongly.agree...for.example.3.8.Based.on.https...www.16personalities.com.free.personality.test | You.rarely.dwell.on.your.regrets.Your.response.should.be.a.decimal.number.from.1..strongly.disagree..to.10..strongly.agree...for.example.3.8.Based.on.https...www.16personalities.com.free.personality.test | You.see.yourself.as.more.of.a.realist.than.a.visionary..Your.response.should.be.a.decimal.number.from.1..strongly.disagree..to.10..strongly.agree...for.example.3.8.Based.on.https...www.16personalities.com.free.personality.test | You.find.it.easy.to.empathize.with.a.person.who.has.gone.through.something.you.never.have.Your.response.should.be.a.decimal.number.from.1..strongly.disagree..to.10..strongly.agree...for.example.3.8.Based.on.https...www.16personalities.com.free.personality.test | Your.emotions.control.you.more.than.you.control.them.Your.response.should.be.a.decimal.number.from.1..strongly.disagree..to.10..strongly.agree...for.example.3.8.Based.on.https...www.16personalities.com.free.personality.test | You.rarely.feel.insecure.Your.response.should.be.a.decimal.number.from.1..strongly.disagree..to.10..strongly.agree...for.example.3.8.Based.on.https...www.16personalities.com.free.personality.test |\n",
       "|---|---|---|---|---|---|---|---|---|---|---|---|---|---|---|---|---|---|---|---|---|\n",
       "| 3.0      | 8.6      | 6.3      | 9.9      | 7.200000 | 8.6      | 10.00    |  8.60    | 9.00     | 1.0      | ...      | 6.90     | 7.4      | 1.2      |  9.9     | 10.00    | 7.5      | 5.5      | 8.60     | 4.70     | 8.90     |\n",
       "| 6.5      | 4.5      | 3.2      | 8.3      | 4.560000 | 3.8      |  2.11    |  9.81    | 7.55     | 8.3      | ...      | 4.36     | 5.33     | 6.3      |  8.0     |  7.65    |          | 8.3      | 6.66     | 5.33     | 4.89     |\n",
       "| 3.0      | 7.0      | 1.0      | 7.0      | 3.000000 | 5.0      |  8.00    |  9.00    | 5.00     | 2.0      | ...      | 5.00     | 6        | 2.0      |  2.0     |  3.00    | 5        | 3.0      | 5.00     | 5.00     | 7.00     |\n",
       "| 3.8      | 4.7      | 4.0      | 8.0      | 3.000000 | 3.0      |  9.00    | 10.00    | 4.50     | 1.0      | ...      | 6.50     | 5        | 9.0      |  1.0     |  2.50    | 5        | 7.0      | 8.00     | 7.00     | 1.00     |\n",
       "| 4.0      | 9.7      | 3.3      | 4.6      | 7.876543 | 9.9      |  0.40    |  7.20    | 4.64     | 2.2      | ...      | 9.60     | 5.5      | 1.2      | 10.0     |  2.00    | 4        | 1.0      | 6.12     | 1.91     | 2.00     |\n",
       "\n"
      ],
      "text/plain": [
       "  You.enjoy.vibrant.social.events.with.lots.of.peopleYour.response.should.be.a.decimal.number.from.1..strongly.disagree..to.10..strongly.agree...for.example.3.8.Based.on.https...www.16personalities.com.free.personality.test\n",
       "1 3.0                                                                                                                                                                                                                          \n",
       "2 6.5                                                                                                                                                                                                                          \n",
       "3 3.0                                                                                                                                                                                                                          \n",
       "4 3.8                                                                                                                                                                                                                          \n",
       "5 4.0                                                                                                                                                                                                                          \n",
       "  You.often.spend.time.exploring.unrealistic.yet.intriguing.ideas.Your.response.should.be.a.decimal.number.from.1..strongly.disagree..to.10..strongly.agree...for.example.3.8.Based.on.https...www.16personalities.com.free.personality.test\n",
       "1 8.6                                                                                                                                                                                                                                       \n",
       "2 4.5                                                                                                                                                                                                                                       \n",
       "3 7.0                                                                                                                                                                                                                                       \n",
       "4 4.7                                                                                                                                                                                                                                       \n",
       "5 9.7                                                                                                                                                                                                                                       \n",
       "  Your.travel.plans.are.more.likely.to.look.like.a.rough.list.of.ideas.than.a.detailed.itinerary.Your.response.should.be.a.decimal.number.from.1..strongly.disagree..to.10..strongly.agree...for.example.3.8.Based.on.https...www.16personalities.com.free.personality.test\n",
       "1 6.3                                                                                                                                                                                                                                                                      \n",
       "2 3.2                                                                                                                                                                                                                                                                      \n",
       "3 1.0                                                                                                                                                                                                                                                                      \n",
       "4 4.0                                                                                                                                                                                                                                                                      \n",
       "5 3.3                                                                                                                                                                                                                                                                      \n",
       "  You.often.think.about.what.you.should.have.said.in.a.conversation.long.after.it.has.taken.place.Your.response.should.be.a.decimal.number.from.1..strongly.disagree..to.10..strongly.agree...for.example.3.8.Based.on.https...www.16personalities.com.free.personality.test\n",
       "1 9.9                                                                                                                                                                                                                                                                       \n",
       "2 8.3                                                                                                                                                                                                                                                                       \n",
       "3 7.0                                                                                                                                                                                                                                                                       \n",
       "4 8.0                                                                                                                                                                                                                                                                       \n",
       "5 4.6                                                                                                                                                                                                                                                                       \n",
       "  If.your.friend.is.sad.about.something..your.first.instinct.is.to.support.them.emotionally..not.try.to.solve.their.problem.Your.response.should.be.a.decimal.number.from.1..strongly.disagree..to.10..strongly.agree...for.example.3.8.Based.on.https...www.16personalities.com.free.personality.test\n",
       "1 7.200000                                                                                                                                                                                                                                                                                            \n",
       "2 4.560000                                                                                                                                                                                                                                                                                            \n",
       "3 3.000000                                                                                                                                                                                                                                                                                            \n",
       "4 3.000000                                                                                                                                                                                                                                                                                            \n",
       "5 7.876543                                                                                                                                                                                                                                                                                            \n",
       "  People.can.rarely.upset.you.Your.response.should.be.a.decimal.number.from.1..strongly.disagree..to.10..strongly.agree...for.example.3.8.Based.on.https...www.16personalities.com.free.personality.test\n",
       "1 8.6                                                                                                                                                                                                   \n",
       "2 3.8                                                                                                                                                                                                   \n",
       "3 5.0                                                                                                                                                                                                   \n",
       "4 3.0                                                                                                                                                                                                   \n",
       "5 9.9                                                                                                                                                                                                   \n",
       "  You.often.rely.on.other.people.to.be.the.ones.to.start.a.conversation.and.keep.it.going.Your.response.should.be.a.decimal.number.from.1..strongly.disagree..to.10..strongly.agree...for.example.3.8.Based.on.https...www.16personalities.com.free.personality.test\n",
       "1 10.00                                                                                                                                                                                                                                                             \n",
       "2  2.11                                                                                                                                                                                                                                                             \n",
       "3  8.00                                                                                                                                                                                                                                                             \n",
       "4  9.00                                                                                                                                                                                                                                                             \n",
       "5  0.40                                                                                                                                                                                                                                                             \n",
       "  If.you.have.to.temporarily.put.your.plans.on.hold..you.make.sure.it.is.your.top.priority.to.get.back.on.track.as.soon.as.possible.Your.response.should.be.a.decimal.number.from.1..strongly.disagree..to.10..strongly.agree...for.example.3.8.Based.on.https...www.16personalities.com.free.personality.test\n",
       "1  8.60                                                                                                                                                                                                                                                                                                       \n",
       "2  9.81                                                                                                                                                                                                                                                                                                       \n",
       "3  9.00                                                                                                                                                                                                                                                                                                       \n",
       "4 10.00                                                                                                                                                                                                                                                                                                       \n",
       "5  7.20                                                                                                                                                                                                                                                                                                       \n",
       "  You.rarely.worry.if.you.made.a.good.impression.on.someone.you.met.Your.response.should.be.a.decimal.number.from.1..strongly.disagree..to.10..strongly.agree...for.example.3.8.Based.on.https...www.16personalities.com.free.personality.test\n",
       "1 9.00                                                                                                                                                                                                                                        \n",
       "2 7.55                                                                                                                                                                                                                                        \n",
       "3 5.00                                                                                                                                                                                                                                        \n",
       "4 4.50                                                                                                                                                                                                                                        \n",
       "5 4.64                                                                                                                                                                                                                                        \n",
       "  It.would.be.a.challenge.for.you.to.spend.the.whole.weekend.all.by.yourself.without.feeling.bored.Your.response.should.be.a.decimal.number.from.1..strongly.disagree..to.10..strongly.agree...for.example.3.8.Based.on.https...www.16personalities.com.free.personality.test\n",
       "1 1.0                                                                                                                                                                                                                                                                        \n",
       "2 8.3                                                                                                                                                                                                                                                                        \n",
       "3 2.0                                                                                                                                                                                                                                                                        \n",
       "4 1.0                                                                                                                                                                                                                                                                        \n",
       "5 2.2                                                                                                                                                                                                                                                                        \n",
       "  ...\n",
       "1 ...\n",
       "2 ...\n",
       "3 ...\n",
       "4 ...\n",
       "5 ...\n",
       "  You.feel.comfortable.just.walking.up.to.someone.you.find.interesting.and.striking.up.a.conversation.Your.response.should.be.a.decimal.number.from.1..strongly.disagree..to.10..strongly.agree...for.example.3.8.Based.on.https...www.16personalities.com.free.personality.test\n",
       "1 6.90                                                                                                                                                                                                                                                                          \n",
       "2 4.36                                                                                                                                                                                                                                                                          \n",
       "3 5.00                                                                                                                                                                                                                                                                          \n",
       "4 6.50                                                                                                                                                                                                                                                                          \n",
       "5 9.60                                                                                                                                                                                                                                                                          \n",
       "  Even.when.you.have.planned.a.particular.daily.routine..you.usually.just.end.up.doing.what.you.feel.like.at.any.given.moment.Your.response.should.be.a.decimal.number.from.1..strongly.disagree..to.10..strongly.agree...for.example.3.8.Based.on.https...www.16personalities.com.free.personality.test\n",
       "1 7.4                                                                                                                                                                                                                                                                                                   \n",
       "2 5.33                                                                                                                                                                                                                                                                                                  \n",
       "3 6                                                                                                                                                                                                                                                                                                     \n",
       "4 5                                                                                                                                                                                                                                                                                                     \n",
       "5 5.5                                                                                                                                                                                                                                                                                                   \n",
       "  Your.mood.can.change.very.quickly.Your.response.should.be.a.decimal.number.from.1..strongly.disagree..to.10..strongly.agree...for.example.3.8.Based.on.https...www.16personalities.com.free.personality.test\n",
       "1 1.2                                                                                                                                                                                                         \n",
       "2 6.3                                                                                                                                                                                                         \n",
       "3 2.0                                                                                                                                                                                                         \n",
       "4 9.0                                                                                                                                                                                                         \n",
       "5 1.2                                                                                                                                                                                                         \n",
       "  You.often.contemplate.the.reasons.for.human.existence.or.the.meaning.of.life.Your.response.should.be.a.decimal.number.from.1..strongly.disagree..to.10..strongly.agree...for.example.3.8.Based.on.https...www.16personalities.com.free.personality.test\n",
       "1  9.9                                                                                                                                                                                                                                                   \n",
       "2  8.0                                                                                                                                                                                                                                                   \n",
       "3  2.0                                                                                                                                                                                                                                                   \n",
       "4  1.0                                                                                                                                                                                                                                                   \n",
       "5 10.0                                                                                                                                                                                                                                                   \n",
       "  You.often.talk.about.your.own.feelings.and.emotions..Your.response.should.be.a.decimal.number.from.1..strongly.disagree..to.10..strongly.agree...for.example.3.8.Based.on.https...www.16personalities.com.free.personality.test\n",
       "1 10.00                                                                                                                                                                                                                          \n",
       "2  7.65                                                                                                                                                                                                                          \n",
       "3  3.00                                                                                                                                                                                                                          \n",
       "4  2.50                                                                                                                                                                                                                          \n",
       "5  2.00                                                                                                                                                                                                                          \n",
       "  You.rarely.dwell.on.your.regrets.Your.response.should.be.a.decimal.number.from.1..strongly.disagree..to.10..strongly.agree...for.example.3.8.Based.on.https...www.16personalities.com.free.personality.test\n",
       "1 7.5                                                                                                                                                                                                        \n",
       "2                                                                                                                                                                                                            \n",
       "3 5                                                                                                                                                                                                          \n",
       "4 5                                                                                                                                                                                                          \n",
       "5 4                                                                                                                                                                                                          \n",
       "  You.see.yourself.as.more.of.a.realist.than.a.visionary..Your.response.should.be.a.decimal.number.from.1..strongly.disagree..to.10..strongly.agree...for.example.3.8.Based.on.https...www.16personalities.com.free.personality.test\n",
       "1 5.5                                                                                                                                                                                                                               \n",
       "2 8.3                                                                                                                                                                                                                               \n",
       "3 3.0                                                                                                                                                                                                                               \n",
       "4 7.0                                                                                                                                                                                                                               \n",
       "5 1.0                                                                                                                                                                                                                               \n",
       "  You.find.it.easy.to.empathize.with.a.person.who.has.gone.through.something.you.never.have.Your.response.should.be.a.decimal.number.from.1..strongly.disagree..to.10..strongly.agree...for.example.3.8.Based.on.https...www.16personalities.com.free.personality.test\n",
       "1 8.60                                                                                                                                                                                                                                                                \n",
       "2 6.66                                                                                                                                                                                                                                                                \n",
       "3 5.00                                                                                                                                                                                                                                                                \n",
       "4 8.00                                                                                                                                                                                                                                                                \n",
       "5 6.12                                                                                                                                                                                                                                                                \n",
       "  Your.emotions.control.you.more.than.you.control.them.Your.response.should.be.a.decimal.number.from.1..strongly.disagree..to.10..strongly.agree...for.example.3.8.Based.on.https...www.16personalities.com.free.personality.test\n",
       "1 4.70                                                                                                                                                                                                                           \n",
       "2 5.33                                                                                                                                                                                                                           \n",
       "3 5.00                                                                                                                                                                                                                           \n",
       "4 7.00                                                                                                                                                                                                                           \n",
       "5 1.91                                                                                                                                                                                                                           \n",
       "  You.rarely.feel.insecure.Your.response.should.be.a.decimal.number.from.1..strongly.disagree..to.10..strongly.agree...for.example.3.8.Based.on.https...www.16personalities.com.free.personality.test\n",
       "1 8.90                                                                                                                                                                                               \n",
       "2 4.89                                                                                                                                                                                               \n",
       "3 7.00                                                                                                                                                                                               \n",
       "4 1.00                                                                                                                                                                                               \n",
       "5 2.00                                                                                                                                                                                               "
      ]
     },
     "metadata": {},
     "output_type": "display_data"
    }
   ],
   "source": [
    "#Input the data\n",
    "data <- read.csv(\"C:\\\\Users\\\\user\\\\Desktop\\\\ANLT\\\\Class_2020_09_10__01_14_QZ_Personality Test.csv\")\n",
    "#Showing the first 5 rows\n",
    "head(data,5)"
   ]
  },
  {
   "cell_type": "markdown",
   "metadata": {},
   "source": [
    "##### All of the colnames are too long to see what it is actually asking"
   ]
  },
  {
   "cell_type": "markdown",
   "metadata": {},
   "source": [
    "### (2) Showing the complete colnames the first 20 columns"
   ]
  },
  {
   "cell_type": "code",
   "execution_count": 2,
   "metadata": {},
   "outputs": [
    {
     "data": {
      "text/html": [
       "<ol class=list-inline>\n",
       "\t<li>'You.enjoy.vibrant.social.events.with.lots.of.peopleYour.response.should.be.a.decimal.number.from.1..strongly.disagree..to.10..strongly.agree...for.example.3.8.Based.on.https...www.16personalities.com.free.personality.test'</li>\n",
       "\t<li>'You.often.spend.time.exploring.unrealistic.yet.intriguing.ideas.Your.response.should.be.a.decimal.number.from.1..strongly.disagree..to.10..strongly.agree...for.example.3.8.Based.on.https...www.16personalities.com.free.personality.test'</li>\n",
       "\t<li>'Your.travel.plans.are.more.likely.to.look.like.a.rough.list.of.ideas.than.a.detailed.itinerary.Your.response.should.be.a.decimal.number.from.1..strongly.disagree..to.10..strongly.agree...for.example.3.8.Based.on.https...www.16personalities.com.free.personality.test'</li>\n",
       "\t<li>'You.often.think.about.what.you.should.have.said.in.a.conversation.long.after.it.has.taken.place.Your.response.should.be.a.decimal.number.from.1..strongly.disagree..to.10..strongly.agree...for.example.3.8.Based.on.https...www.16personalities.com.free.personality.test'</li>\n",
       "\t<li>'If.your.friend.is.sad.about.something..your.first.instinct.is.to.support.them.emotionally..not.try.to.solve.their.problem.Your.response.should.be.a.decimal.number.from.1..strongly.disagree..to.10..strongly.agree...for.example.3.8.Based.on.https...www.16personalities.com.free.personality.test'</li>\n",
       "\t<li>'People.can.rarely.upset.you.Your.response.should.be.a.decimal.number.from.1..strongly.disagree..to.10..strongly.agree...for.example.3.8.Based.on.https...www.16personalities.com.free.personality.test'</li>\n",
       "\t<li>'You.often.rely.on.other.people.to.be.the.ones.to.start.a.conversation.and.keep.it.going.Your.response.should.be.a.decimal.number.from.1..strongly.disagree..to.10..strongly.agree...for.example.3.8.Based.on.https...www.16personalities.com.free.personality.test'</li>\n",
       "\t<li>'If.you.have.to.temporarily.put.your.plans.on.hold..you.make.sure.it.is.your.top.priority.to.get.back.on.track.as.soon.as.possible.Your.response.should.be.a.decimal.number.from.1..strongly.disagree..to.10..strongly.agree...for.example.3.8.Based.on.https...www.16personalities.com.free.personality.test'</li>\n",
       "\t<li>'You.rarely.worry.if.you.made.a.good.impression.on.someone.you.met.Your.response.should.be.a.decimal.number.from.1..strongly.disagree..to.10..strongly.agree...for.example.3.8.Based.on.https...www.16personalities.com.free.personality.test'</li>\n",
       "\t<li>'It.would.be.a.challenge.for.you.to.spend.the.whole.weekend.all.by.yourself.without.feeling.bored.Your.response.should.be.a.decimal.number.from.1..strongly.disagree..to.10..strongly.agree...for.example.3.8.Based.on.https...www.16personalities.com.free.personality.test'</li>\n",
       "\t<li>'You.are.more.of.a.detail.oriented.than.a.big.picture.person.Your.response.should.be.a.decimal.number.from.1..strongly.disagree..to.10..strongly.agree...for.example.3.8.Based.on.https...www.16personalities.com.free.personality.test'</li>\n",
       "\t<li>'You.are.very.affectionate.with.people.you.care.about.Your.response.should.be.a.decimal.number.from.1..strongly.disagree..to.10..strongly.agree...for.example.3.8.Based.on.https...www.16personalities.com.free.personality.test'</li>\n",
       "\t<li>'You.have.a.careful.and.methodical.approach.to.life.Your.response.should.be.a.decimal.number.from.1..strongly.disagree..to.10..strongly.agree...for.example.3.8.Based.on.https...www.16personalities.com.free.personality.test'</li>\n",
       "\t<li>'You.are.still.bothered.by.the.mistakes.you.made.a.long.time.ago.Your.response.should.be.a.decimal.number.from.1..strongly.disagree..to.10..strongly.agree...for.example.3.8.Based.on.https...www.16personalities.com.free.personality.test'</li>\n",
       "\t<li>'At.parties.and.similar.events.you.can.mostly.be.found.farther.away.from.the.action.Your.response.should.be.a.decimal.number.from.1..strongly.disagree..to.10..strongly.agree...for.example.3.8.Based.on.https...www.16personalities.com.free.personality.test'</li>\n",
       "\t<li>'When.looking.for.a.movie.to.watch..you.can.spend.ages.browsing.the.catalog.Your.response.should.be.a.decimal.number.from.1..strongly.disagree..to.10..strongly.agree...for.example.3.8.Based.on.https...www.16personalities.com.free.personality.test'</li>\n",
       "\t<li>'You.can.stay.calm.under.a.lot.of.pressure.Your.response.should.be.a.decimal.number.from.1..strongly.disagree..to.10..strongly.agree...for.example.3.8.Based.on.https...www.16personalities.com.free.personality.test'</li>\n",
       "\t<li>'When.in.a.group.of.people.you.do.not.know..you.have.no.problem.jumping.right.into.their.conversation.Your.response.should.be.a.decimal.number.from.1..strongly.disagree..to.10..strongly.agree...for.example.3.8.Based.on.https...www.16personalities.com.free.personality.test'</li>\n",
       "\t<li>'When.you.sleep..your.dreams.tend.to.be.bizarre.and.fantastical.Your.response.should.be.a.decimal.number.from.1..strongly.disagree..to.10..strongly.agree...for.example.3.8.Based.on.https...www.16personalities.com.free.personality.test'</li>\n",
       "\t<li>'In.your.opinion..it.is.sometimes.OK.to.step.on.others.to.get.ahead.in.life.Your.response.should.be.a.decimal.number.from.1..strongly.disagree..to.10..strongly.agree...for.example.3.8.Based.on.https...www.16personalities.com.free.personality.test'</li>\n",
       "</ol>\n"
      ],
      "text/latex": [
       "\\begin{enumerate*}\n",
       "\\item 'You.enjoy.vibrant.social.events.with.lots.of.peopleYour.response.should.be.a.decimal.number.from.1..strongly.disagree..to.10..strongly.agree...for.example.3.8.Based.on.https...www.16personalities.com.free.personality.test'\n",
       "\\item 'You.often.spend.time.exploring.unrealistic.yet.intriguing.ideas.Your.response.should.be.a.decimal.number.from.1..strongly.disagree..to.10..strongly.agree...for.example.3.8.Based.on.https...www.16personalities.com.free.personality.test'\n",
       "\\item 'Your.travel.plans.are.more.likely.to.look.like.a.rough.list.of.ideas.than.a.detailed.itinerary.Your.response.should.be.a.decimal.number.from.1..strongly.disagree..to.10..strongly.agree...for.example.3.8.Based.on.https...www.16personalities.com.free.personality.test'\n",
       "\\item 'You.often.think.about.what.you.should.have.said.in.a.conversation.long.after.it.has.taken.place.Your.response.should.be.a.decimal.number.from.1..strongly.disagree..to.10..strongly.agree...for.example.3.8.Based.on.https...www.16personalities.com.free.personality.test'\n",
       "\\item 'If.your.friend.is.sad.about.something..your.first.instinct.is.to.support.them.emotionally..not.try.to.solve.their.problem.Your.response.should.be.a.decimal.number.from.1..strongly.disagree..to.10..strongly.agree...for.example.3.8.Based.on.https...www.16personalities.com.free.personality.test'\n",
       "\\item 'People.can.rarely.upset.you.Your.response.should.be.a.decimal.number.from.1..strongly.disagree..to.10..strongly.agree...for.example.3.8.Based.on.https...www.16personalities.com.free.personality.test'\n",
       "\\item 'You.often.rely.on.other.people.to.be.the.ones.to.start.a.conversation.and.keep.it.going.Your.response.should.be.a.decimal.number.from.1..strongly.disagree..to.10..strongly.agree...for.example.3.8.Based.on.https...www.16personalities.com.free.personality.test'\n",
       "\\item 'If.you.have.to.temporarily.put.your.plans.on.hold..you.make.sure.it.is.your.top.priority.to.get.back.on.track.as.soon.as.possible.Your.response.should.be.a.decimal.number.from.1..strongly.disagree..to.10..strongly.agree...for.example.3.8.Based.on.https...www.16personalities.com.free.personality.test'\n",
       "\\item 'You.rarely.worry.if.you.made.a.good.impression.on.someone.you.met.Your.response.should.be.a.decimal.number.from.1..strongly.disagree..to.10..strongly.agree...for.example.3.8.Based.on.https...www.16personalities.com.free.personality.test'\n",
       "\\item 'It.would.be.a.challenge.for.you.to.spend.the.whole.weekend.all.by.yourself.without.feeling.bored.Your.response.should.be.a.decimal.number.from.1..strongly.disagree..to.10..strongly.agree...for.example.3.8.Based.on.https...www.16personalities.com.free.personality.test'\n",
       "\\item 'You.are.more.of.a.detail.oriented.than.a.big.picture.person.Your.response.should.be.a.decimal.number.from.1..strongly.disagree..to.10..strongly.agree...for.example.3.8.Based.on.https...www.16personalities.com.free.personality.test'\n",
       "\\item 'You.are.very.affectionate.with.people.you.care.about.Your.response.should.be.a.decimal.number.from.1..strongly.disagree..to.10..strongly.agree...for.example.3.8.Based.on.https...www.16personalities.com.free.personality.test'\n",
       "\\item 'You.have.a.careful.and.methodical.approach.to.life.Your.response.should.be.a.decimal.number.from.1..strongly.disagree..to.10..strongly.agree...for.example.3.8.Based.on.https...www.16personalities.com.free.personality.test'\n",
       "\\item 'You.are.still.bothered.by.the.mistakes.you.made.a.long.time.ago.Your.response.should.be.a.decimal.number.from.1..strongly.disagree..to.10..strongly.agree...for.example.3.8.Based.on.https...www.16personalities.com.free.personality.test'\n",
       "\\item 'At.parties.and.similar.events.you.can.mostly.be.found.farther.away.from.the.action.Your.response.should.be.a.decimal.number.from.1..strongly.disagree..to.10..strongly.agree...for.example.3.8.Based.on.https...www.16personalities.com.free.personality.test'\n",
       "\\item 'When.looking.for.a.movie.to.watch..you.can.spend.ages.browsing.the.catalog.Your.response.should.be.a.decimal.number.from.1..strongly.disagree..to.10..strongly.agree...for.example.3.8.Based.on.https...www.16personalities.com.free.personality.test'\n",
       "\\item 'You.can.stay.calm.under.a.lot.of.pressure.Your.response.should.be.a.decimal.number.from.1..strongly.disagree..to.10..strongly.agree...for.example.3.8.Based.on.https...www.16personalities.com.free.personality.test'\n",
       "\\item 'When.in.a.group.of.people.you.do.not.know..you.have.no.problem.jumping.right.into.their.conversation.Your.response.should.be.a.decimal.number.from.1..strongly.disagree..to.10..strongly.agree...for.example.3.8.Based.on.https...www.16personalities.com.free.personality.test'\n",
       "\\item 'When.you.sleep..your.dreams.tend.to.be.bizarre.and.fantastical.Your.response.should.be.a.decimal.number.from.1..strongly.disagree..to.10..strongly.agree...for.example.3.8.Based.on.https...www.16personalities.com.free.personality.test'\n",
       "\\item 'In.your.opinion..it.is.sometimes.OK.to.step.on.others.to.get.ahead.in.life.Your.response.should.be.a.decimal.number.from.1..strongly.disagree..to.10..strongly.agree...for.example.3.8.Based.on.https...www.16personalities.com.free.personality.test'\n",
       "\\end{enumerate*}\n"
      ],
      "text/markdown": [
       "1. 'You.enjoy.vibrant.social.events.with.lots.of.peopleYour.response.should.be.a.decimal.number.from.1..strongly.disagree..to.10..strongly.agree...for.example.3.8.Based.on.https...www.16personalities.com.free.personality.test'\n",
       "2. 'You.often.spend.time.exploring.unrealistic.yet.intriguing.ideas.Your.response.should.be.a.decimal.number.from.1..strongly.disagree..to.10..strongly.agree...for.example.3.8.Based.on.https...www.16personalities.com.free.personality.test'\n",
       "3. 'Your.travel.plans.are.more.likely.to.look.like.a.rough.list.of.ideas.than.a.detailed.itinerary.Your.response.should.be.a.decimal.number.from.1..strongly.disagree..to.10..strongly.agree...for.example.3.8.Based.on.https...www.16personalities.com.free.personality.test'\n",
       "4. 'You.often.think.about.what.you.should.have.said.in.a.conversation.long.after.it.has.taken.place.Your.response.should.be.a.decimal.number.from.1..strongly.disagree..to.10..strongly.agree...for.example.3.8.Based.on.https...www.16personalities.com.free.personality.test'\n",
       "5. 'If.your.friend.is.sad.about.something..your.first.instinct.is.to.support.them.emotionally..not.try.to.solve.their.problem.Your.response.should.be.a.decimal.number.from.1..strongly.disagree..to.10..strongly.agree...for.example.3.8.Based.on.https...www.16personalities.com.free.personality.test'\n",
       "6. 'People.can.rarely.upset.you.Your.response.should.be.a.decimal.number.from.1..strongly.disagree..to.10..strongly.agree...for.example.3.8.Based.on.https...www.16personalities.com.free.personality.test'\n",
       "7. 'You.often.rely.on.other.people.to.be.the.ones.to.start.a.conversation.and.keep.it.going.Your.response.should.be.a.decimal.number.from.1..strongly.disagree..to.10..strongly.agree...for.example.3.8.Based.on.https...www.16personalities.com.free.personality.test'\n",
       "8. 'If.you.have.to.temporarily.put.your.plans.on.hold..you.make.sure.it.is.your.top.priority.to.get.back.on.track.as.soon.as.possible.Your.response.should.be.a.decimal.number.from.1..strongly.disagree..to.10..strongly.agree...for.example.3.8.Based.on.https...www.16personalities.com.free.personality.test'\n",
       "9. 'You.rarely.worry.if.you.made.a.good.impression.on.someone.you.met.Your.response.should.be.a.decimal.number.from.1..strongly.disagree..to.10..strongly.agree...for.example.3.8.Based.on.https...www.16personalities.com.free.personality.test'\n",
       "10. 'It.would.be.a.challenge.for.you.to.spend.the.whole.weekend.all.by.yourself.without.feeling.bored.Your.response.should.be.a.decimal.number.from.1..strongly.disagree..to.10..strongly.agree...for.example.3.8.Based.on.https...www.16personalities.com.free.personality.test'\n",
       "11. 'You.are.more.of.a.detail.oriented.than.a.big.picture.person.Your.response.should.be.a.decimal.number.from.1..strongly.disagree..to.10..strongly.agree...for.example.3.8.Based.on.https...www.16personalities.com.free.personality.test'\n",
       "12. 'You.are.very.affectionate.with.people.you.care.about.Your.response.should.be.a.decimal.number.from.1..strongly.disagree..to.10..strongly.agree...for.example.3.8.Based.on.https...www.16personalities.com.free.personality.test'\n",
       "13. 'You.have.a.careful.and.methodical.approach.to.life.Your.response.should.be.a.decimal.number.from.1..strongly.disagree..to.10..strongly.agree...for.example.3.8.Based.on.https...www.16personalities.com.free.personality.test'\n",
       "14. 'You.are.still.bothered.by.the.mistakes.you.made.a.long.time.ago.Your.response.should.be.a.decimal.number.from.1..strongly.disagree..to.10..strongly.agree...for.example.3.8.Based.on.https...www.16personalities.com.free.personality.test'\n",
       "15. 'At.parties.and.similar.events.you.can.mostly.be.found.farther.away.from.the.action.Your.response.should.be.a.decimal.number.from.1..strongly.disagree..to.10..strongly.agree...for.example.3.8.Based.on.https...www.16personalities.com.free.personality.test'\n",
       "16. 'When.looking.for.a.movie.to.watch..you.can.spend.ages.browsing.the.catalog.Your.response.should.be.a.decimal.number.from.1..strongly.disagree..to.10..strongly.agree...for.example.3.8.Based.on.https...www.16personalities.com.free.personality.test'\n",
       "17. 'You.can.stay.calm.under.a.lot.of.pressure.Your.response.should.be.a.decimal.number.from.1..strongly.disagree..to.10..strongly.agree...for.example.3.8.Based.on.https...www.16personalities.com.free.personality.test'\n",
       "18. 'When.in.a.group.of.people.you.do.not.know..you.have.no.problem.jumping.right.into.their.conversation.Your.response.should.be.a.decimal.number.from.1..strongly.disagree..to.10..strongly.agree...for.example.3.8.Based.on.https...www.16personalities.com.free.personality.test'\n",
       "19. 'When.you.sleep..your.dreams.tend.to.be.bizarre.and.fantastical.Your.response.should.be.a.decimal.number.from.1..strongly.disagree..to.10..strongly.agree...for.example.3.8.Based.on.https...www.16personalities.com.free.personality.test'\n",
       "20. 'In.your.opinion..it.is.sometimes.OK.to.step.on.others.to.get.ahead.in.life.Your.response.should.be.a.decimal.number.from.1..strongly.disagree..to.10..strongly.agree...for.example.3.8.Based.on.https...www.16personalities.com.free.personality.test'\n",
       "\n",
       "\n"
      ],
      "text/plain": [
       " [1] \"You.enjoy.vibrant.social.events.with.lots.of.peopleYour.response.should.be.a.decimal.number.from.1..strongly.disagree..to.10..strongly.agree...for.example.3.8.Based.on.https...www.16personalities.com.free.personality.test\"                                                                               \n",
       " [2] \"You.often.spend.time.exploring.unrealistic.yet.intriguing.ideas.Your.response.should.be.a.decimal.number.from.1..strongly.disagree..to.10..strongly.agree...for.example.3.8.Based.on.https...www.16personalities.com.free.personality.test\"                                                                  \n",
       " [3] \"Your.travel.plans.are.more.likely.to.look.like.a.rough.list.of.ideas.than.a.detailed.itinerary.Your.response.should.be.a.decimal.number.from.1..strongly.disagree..to.10..strongly.agree...for.example.3.8.Based.on.https...www.16personalities.com.free.personality.test\"                                   \n",
       " [4] \"You.often.think.about.what.you.should.have.said.in.a.conversation.long.after.it.has.taken.place.Your.response.should.be.a.decimal.number.from.1..strongly.disagree..to.10..strongly.agree...for.example.3.8.Based.on.https...www.16personalities.com.free.personality.test\"                                  \n",
       " [5] \"If.your.friend.is.sad.about.something..your.first.instinct.is.to.support.them.emotionally..not.try.to.solve.their.problem.Your.response.should.be.a.decimal.number.from.1..strongly.disagree..to.10..strongly.agree...for.example.3.8.Based.on.https...www.16personalities.com.free.personality.test\"        \n",
       " [6] \"People.can.rarely.upset.you.Your.response.should.be.a.decimal.number.from.1..strongly.disagree..to.10..strongly.agree...for.example.3.8.Based.on.https...www.16personalities.com.free.personality.test\"                                                                                                      \n",
       " [7] \"You.often.rely.on.other.people.to.be.the.ones.to.start.a.conversation.and.keep.it.going.Your.response.should.be.a.decimal.number.from.1..strongly.disagree..to.10..strongly.agree...for.example.3.8.Based.on.https...www.16personalities.com.free.personality.test\"                                          \n",
       " [8] \"If.you.have.to.temporarily.put.your.plans.on.hold..you.make.sure.it.is.your.top.priority.to.get.back.on.track.as.soon.as.possible.Your.response.should.be.a.decimal.number.from.1..strongly.disagree..to.10..strongly.agree...for.example.3.8.Based.on.https...www.16personalities.com.free.personality.test\"\n",
       " [9] \"You.rarely.worry.if.you.made.a.good.impression.on.someone.you.met.Your.response.should.be.a.decimal.number.from.1..strongly.disagree..to.10..strongly.agree...for.example.3.8.Based.on.https...www.16personalities.com.free.personality.test\"                                                                \n",
       "[10] \"It.would.be.a.challenge.for.you.to.spend.the.whole.weekend.all.by.yourself.without.feeling.bored.Your.response.should.be.a.decimal.number.from.1..strongly.disagree..to.10..strongly.agree...for.example.3.8.Based.on.https...www.16personalities.com.free.personality.test\"                                 \n",
       "[11] \"You.are.more.of.a.detail.oriented.than.a.big.picture.person.Your.response.should.be.a.decimal.number.from.1..strongly.disagree..to.10..strongly.agree...for.example.3.8.Based.on.https...www.16personalities.com.free.personality.test\"                                                                      \n",
       "[12] \"You.are.very.affectionate.with.people.you.care.about.Your.response.should.be.a.decimal.number.from.1..strongly.disagree..to.10..strongly.agree...for.example.3.8.Based.on.https...www.16personalities.com.free.personality.test\"                                                                             \n",
       "[13] \"You.have.a.careful.and.methodical.approach.to.life.Your.response.should.be.a.decimal.number.from.1..strongly.disagree..to.10..strongly.agree...for.example.3.8.Based.on.https...www.16personalities.com.free.personality.test\"                                                                               \n",
       "[14] \"You.are.still.bothered.by.the.mistakes.you.made.a.long.time.ago.Your.response.should.be.a.decimal.number.from.1..strongly.disagree..to.10..strongly.agree...for.example.3.8.Based.on.https...www.16personalities.com.free.personality.test\"                                                                  \n",
       "[15] \"At.parties.and.similar.events.you.can.mostly.be.found.farther.away.from.the.action.Your.response.should.be.a.decimal.number.from.1..strongly.disagree..to.10..strongly.agree...for.example.3.8.Based.on.https...www.16personalities.com.free.personality.test\"                                               \n",
       "[16] \"When.looking.for.a.movie.to.watch..you.can.spend.ages.browsing.the.catalog.Your.response.should.be.a.decimal.number.from.1..strongly.disagree..to.10..strongly.agree...for.example.3.8.Based.on.https...www.16personalities.com.free.personality.test\"                                                       \n",
       "[17] \"You.can.stay.calm.under.a.lot.of.pressure.Your.response.should.be.a.decimal.number.from.1..strongly.disagree..to.10..strongly.agree...for.example.3.8.Based.on.https...www.16personalities.com.free.personality.test\"                                                                                        \n",
       "[18] \"When.in.a.group.of.people.you.do.not.know..you.have.no.problem.jumping.right.into.their.conversation.Your.response.should.be.a.decimal.number.from.1..strongly.disagree..to.10..strongly.agree...for.example.3.8.Based.on.https...www.16personalities.com.free.personality.test\"                             \n",
       "[19] \"When.you.sleep..your.dreams.tend.to.be.bizarre.and.fantastical.Your.response.should.be.a.decimal.number.from.1..strongly.disagree..to.10..strongly.agree...for.example.3.8.Based.on.https...www.16personalities.com.free.personality.test\"                                                                   \n",
       "[20] \"In.your.opinion..it.is.sometimes.OK.to.step.on.others.to.get.ahead.in.life.Your.response.should.be.a.decimal.number.from.1..strongly.disagree..to.10..strongly.agree...for.example.3.8.Based.on.https...www.16personalities.com.free.personality.test\"                                                       "
      ]
     },
     "metadata": {},
     "output_type": "display_data"
    }
   ],
   "source": [
    "#Show the first 20 colnames\n",
    "head(colnames(data),20)"
   ]
  },
  {
   "cell_type": "markdown",
   "metadata": {},
   "source": [
    "##### Many parts of the col names are duplicated so I might be able to shorten them"
   ]
  },
  {
   "cell_type": "markdown",
   "metadata": {},
   "source": [
    "### (3) In order to show the number of rows, columns, and items in this data"
   ]
  },
  {
   "cell_type": "code",
   "execution_count": 3,
   "metadata": {},
   "outputs": [
    {
     "name": "stdout",
     "output_type": "stream",
     "text": [
      "There are  32 rows in the tableThere are  50 columns in the tableThere are  1600 iteams in the table"
     ]
    }
   ],
   "source": [
    "#Showing the number of rows and columns\n",
    "row1 <- dim(data)[1]\n",
    "column1 <-dim(data)[2]\n",
    "#Showing the number of items by multiple row1 and column1\n",
    "iteams<-row1*column1\n",
    "cat('There are ', row1 , 'rows in the table')\n",
    "\n",
    "cat('There are ' ,column1, 'columns in the table' )\n",
    "\n",
    "cat('There are ' ,iteams, 'iteams in the table' )"
   ]
  },
  {
   "cell_type": "markdown",
   "metadata": {},
   "source": [
    "##### There are 32 rows, 50 columns, and 1600 items in this data"
   ]
  },
  {
   "cell_type": "markdown",
   "metadata": {},
   "source": [
    "### (4) Use summary to see some information about these data"
   ]
  },
  {
   "cell_type": "code",
   "execution_count": 4,
   "metadata": {
    "scrolled": true
   },
   "outputs": [
    {
     "data": {
      "text/plain": [
       " You.enjoy.vibrant.social.events.with.lots.of.peopleYour.response.should.be.a.decimal.number.from.1..strongly.disagree..to.10..strongly.agree...for.example.3.8.Based.on.https...www.16personalities.com.free.personality.test\n",
       " Min.   : 2.100                                                                                                                                                                                                               \n",
       " 1st Qu.: 5.000                                                                                                                                                                                                               \n",
       " Median : 6.000                                                                                                                                                                                                               \n",
       " Mean   : 5.942                                                                                                                                                                                                               \n",
       " 3rd Qu.: 7.000                                                                                                                                                                                                               \n",
       " Max.   :10.000                                                                                                                                                                                                               \n",
       " NA's   :1                                                                                                                                                                                                                    \n",
       " You.often.spend.time.exploring.unrealistic.yet.intriguing.ideas.Your.response.should.be.a.decimal.number.from.1..strongly.disagree..to.10..strongly.agree...for.example.3.8.Based.on.https...www.16personalities.com.free.personality.test\n",
       " Min.   : 1.100                                                                                                                                                                                                                            \n",
       " 1st Qu.: 4.000                                                                                                                                                                                                                            \n",
       " Median : 5.550                                                                                                                                                                                                                            \n",
       " Mean   : 5.912                                                                                                                                                                                                                            \n",
       " 3rd Qu.: 7.625                                                                                                                                                                                                                            \n",
       " Max.   :10.000                                                                                                                                                                                                                            \n",
       "                                                                                                                                                                                                                                           \n",
       " Your.travel.plans.are.more.likely.to.look.like.a.rough.list.of.ideas.than.a.detailed.itinerary.Your.response.should.be.a.decimal.number.from.1..strongly.disagree..to.10..strongly.agree...for.example.3.8.Based.on.https...www.16personalities.com.free.personality.test\n",
       " Min.   : 1.000                                                                                                                                                                                                                                                           \n",
       " 1st Qu.: 2.900                                                                                                                                                                                                                                                           \n",
       " Median : 4.600                                                                                                                                                                                                                                                           \n",
       " Mean   : 5.048                                                                                                                                                                                                                                                           \n",
       " 3rd Qu.: 7.575                                                                                                                                                                                                                                                           \n",
       " Max.   :10.000                                                                                                                                                                                                                                                           \n",
       "                                                                                                                                                                                                                                                                          \n",
       " You.often.think.about.what.you.should.have.said.in.a.conversation.long.after.it.has.taken.place.Your.response.should.be.a.decimal.number.from.1..strongly.disagree..to.10..strongly.agree...for.example.3.8.Based.on.https...www.16personalities.com.free.personality.test\n",
       " Min.   : 1.000                                                                                                                                                                                                                                                            \n",
       " 1st Qu.: 6.875                                                                                                                                                                                                                                                            \n",
       " Median : 8.150                                                                                                                                                                                                                                                            \n",
       " Mean   : 7.399                                                                                                                                                                                                                                                            \n",
       " 3rd Qu.: 9.525                                                                                                                                                                                                                                                            \n",
       " Max.   :10.000                                                                                                                                                                                                                                                            \n",
       "                                                                                                                                                                                                                                                                           \n",
       " If.your.friend.is.sad.about.something..your.first.instinct.is.to.support.them.emotionally..not.try.to.solve.their.problem.Your.response.should.be.a.decimal.number.from.1..strongly.disagree..to.10..strongly.agree...for.example.3.8.Based.on.https...www.16personalities.com.free.personality.test\n",
       " Min.   : 0.100                                                                                                                                                                                                                                                                                      \n",
       " 1st Qu.: 3.635                                                                                                                                                                                                                                                                                      \n",
       " Median : 5.500                                                                                                                                                                                                                                                                                      \n",
       " Mean   : 5.460                                                                                                                                                                                                                                                                                      \n",
       " 3rd Qu.: 7.275                                                                                                                                                                                                                                                                                      \n",
       " Max.   :10.000                                                                                                                                                                                                                                                                                      \n",
       "                                                                                                                                                                                                                                                                                                     \n",
       " People.can.rarely.upset.you.Your.response.should.be.a.decimal.number.from.1..strongly.disagree..to.10..strongly.agree...for.example.3.8.Based.on.https...www.16personalities.com.free.personality.test\n",
       " Min.   : 0.000                                                                                                                                                                                        \n",
       " 1st Qu.: 3.313                                                                                                                                                                                        \n",
       " Median : 5.000                                                                                                                                                                                        \n",
       " Mean   : 5.213                                                                                                                                                                                        \n",
       " 3rd Qu.: 6.900                                                                                                                                                                                        \n",
       " Max.   :10.000                                                                                                                                                                                        \n",
       " NA's   :1                                                                                                                                                                                             \n",
       " You.often.rely.on.other.people.to.be.the.ones.to.start.a.conversation.and.keep.it.going.Your.response.should.be.a.decimal.number.from.1..strongly.disagree..to.10..strongly.agree...for.example.3.8.Based.on.https...www.16personalities.com.free.personality.test\n",
       " Min.   : 0.000                                                                                                                                                                                                                                                    \n",
       " 1st Qu.: 2.194                                                                                                                                                                                                                                                    \n",
       " Median : 5.100                                                                                                                                                                                                                                                    \n",
       " Mean   : 5.203                                                                                                                                                                                                                                                    \n",
       " 3rd Qu.: 8.125                                                                                                                                                                                                                                                    \n",
       " Max.   :10.000                                                                                                                                                                                                                                                    \n",
       "                                                                                                                                                                                                                                                                   \n",
       " If.you.have.to.temporarily.put.your.plans.on.hold..you.make.sure.it.is.your.top.priority.to.get.back.on.track.as.soon.as.possible.Your.response.should.be.a.decimal.number.from.1..strongly.disagree..to.10..strongly.agree...for.example.3.8.Based.on.https...www.16personalities.com.free.personality.test\n",
       " Min.   : 1.000                                                                                                                                                                                                                                                                                              \n",
       " 1st Qu.: 6.750                                                                                                                                                                                                                                                                                              \n",
       " Median : 8.200                                                                                                                                                                                                                                                                                              \n",
       " Mean   : 7.800                                                                                                                                                                                                                                                                                              \n",
       " 3rd Qu.: 9.655                                                                                                                                                                                                                                                                                              \n",
       " Max.   :10.000                                                                                                                                                                                                                                                                                              \n",
       " NA's   :1                                                                                                                                                                                                                                                                                                   \n",
       " You.rarely.worry.if.you.made.a.good.impression.on.someone.you.met.Your.response.should.be.a.decimal.number.from.1..strongly.disagree..to.10..strongly.agree...for.example.3.8.Based.on.https...www.16personalities.com.free.personality.test\n",
       " Min.   : 0.000                                                                                                                                                                                                                              \n",
       " 1st Qu.: 2.225                                                                                                                                                                                                                              \n",
       " Median : 5.000                                                                                                                                                                                                                              \n",
       " Mean   : 4.932                                                                                                                                                                                                                              \n",
       " 3rd Qu.: 7.562                                                                                                                                                                                                                              \n",
       " Max.   :10.000                                                                                                                                                                                                                              \n",
       "                                                                                                                                                                                                                                             \n",
       " It.would.be.a.challenge.for.you.to.spend.the.whole.weekend.all.by.yourself.without.feeling.bored.Your.response.should.be.a.decimal.number.from.1..strongly.disagree..to.10..strongly.agree...for.example.3.8.Based.on.https...www.16personalities.com.free.personality.test\n",
       " Min.   : 0.000                                                                                                                                                                                                                                                             \n",
       " 1st Qu.: 1.000                                                                                                                                                                                                                                                             \n",
       " Median : 2.000                                                                                                                                                                                                                                                             \n",
       " Mean   : 3.058                                                                                                                                                                                                                                                             \n",
       " 3rd Qu.: 4.300                                                                                                                                                                                                                                                             \n",
       " Max.   :10.000                                                                                                                                                                                                                                                             \n",
       " NA's   :1                                                                                                                                                                                                                                                                  "
      ]
     },
     "metadata": {},
     "output_type": "display_data"
    }
   ],
   "source": [
    "#use summary to get the first 10 columns information such as 'mean'\n",
    "summary(data[,1:10])"
   ]
  },
  {
   "cell_type": "markdown",
   "metadata": {},
   "source": [
    "##### The maximum and the minimum of the data supposed to be 10 and one, so it might be necessary to replace those data which is out of this range."
   ]
  },
  {
   "cell_type": "markdown",
   "metadata": {},
   "source": [
    "## 3. Simple Linear Regression"
   ]
  },
  {
   "cell_type": "markdown",
   "metadata": {},
   "source": [
    "##### Before we make the simple linear regression we need to shorten all of the colnames and replace all the empty place into NA first"
   ]
  },
  {
   "cell_type": "code",
   "execution_count": 5,
   "metadata": {
    "scrolled": true
   },
   "outputs": [
    {
     "data": {
      "text/html": [
       "<table>\n",
       "<thead><tr><th scope=col>enjoy vibrant social events</th><th scope=col>exploring unrealistic yet intriguing ideas</th><th scope=col>travel plans list of ideas</th><th scope=col>think what to say long after conversation</th><th scope=col>support friends emotionally first</th><th scope=col>People can rarely upset you</th><th scope=col>often rely on people start a conversati</th><th scope=col>make sure your plan to get back on track</th><th scope=col>rarely worry good impression</th><th scope=col>challenge spend the whole weekend without feeling bored. </th><th scope=col>...</th><th scope=col>feel comfortable walking up to someone you find interesting and talk to him</th><th scope=col>doing what you feel like at any given moment</th><th scope=col>mood can change very quickly</th><th scope=col>often contemplate the reasons for human existence</th><th scope=col>often talk about your own feelings and emotions</th><th scope=col>rarely dwell on your regrets</th><th scope=col>see yourself as more of a realist than a visionary</th><th scope=col>easy to empathize with a person who has gone through something you never have</th><th scope=col>emotions control you more than you control them</th><th scope=col>rarely feel insecure</th></tr></thead>\n",
       "<tbody>\n",
       "\t<tr><td>3.0       </td><td> 8.6      </td><td> 6.30     </td><td>9.90000   </td><td> 7.200000 </td><td> 8.6000000</td><td>10.00000  </td><td> 8.600000 </td><td> 9.000000 </td><td>1.0       </td><td>...       </td><td>6.90      </td><td>7.4       </td><td>1.200     </td><td> 9.90000  </td><td>10.00     </td><td>7.5       </td><td>5.50      </td><td>8.600     </td><td>4.7000    </td><td>8.900     </td></tr>\n",
       "\t<tr><td>6.5       </td><td> 4.5      </td><td> 3.20     </td><td>8.30000   </td><td> 4.560000 </td><td> 3.8000000</td><td> 2.11000  </td><td> 9.810000 </td><td> 7.550000 </td><td>8.3       </td><td>...       </td><td>4.36      </td><td>5.33      </td><td>6.300     </td><td> 8.00000  </td><td> 7.65     </td><td>NA        </td><td>8.30      </td><td>6.660     </td><td>5.3300    </td><td>4.890     </td></tr>\n",
       "\t<tr><td>3.0       </td><td> 7.0      </td><td> 1.00     </td><td>7.00000   </td><td> 3.000000 </td><td> 5.0000000</td><td> 8.00000  </td><td> 9.000000 </td><td> 5.000000 </td><td>2.0       </td><td>...       </td><td>5.00      </td><td>6         </td><td>2.000     </td><td> 2.00000  </td><td> 3.00     </td><td>5         </td><td>3.00      </td><td>5.000     </td><td>5.0000    </td><td>7.000     </td></tr>\n",
       "\t<tr><td>3.8       </td><td> 4.7      </td><td> 4.00     </td><td>8.00000   </td><td> 3.000000 </td><td> 3.0000000</td><td> 9.00000  </td><td>10.000000 </td><td> 4.500000 </td><td>1.0       </td><td>...       </td><td>6.50      </td><td>5         </td><td>9.000     </td><td> 1.00000  </td><td> 2.50     </td><td>5         </td><td>7.00      </td><td>8.000     </td><td>7.0000    </td><td>1.000     </td></tr>\n",
       "\t<tr><td>4.0       </td><td> 9.7      </td><td> 3.30     </td><td>4.60000   </td><td> 7.876543 </td><td> 9.9000000</td><td> 0.40000  </td><td> 7.200000 </td><td> 4.640000 </td><td>2.2       </td><td>...       </td><td>9.60      </td><td>5.5       </td><td>1.200     </td><td>10.00000  </td><td> 2.00     </td><td>4         </td><td>1.00      </td><td>6.120     </td><td>1.9100    </td><td>2.000     </td></tr>\n",
       "\t<tr><td>7.0       </td><td> 1.1      </td><td> 7.95     </td><td>9.98756   </td><td> 8.729400 </td><td> 5.8213000</td><td> 9.99999  </td><td> 7.898903 </td><td> 1.192341 </td><td>1.0       </td><td>...       </td><td>1.20      </td><td>6.78      </td><td>3.123     </td><td> 7.99129  </td><td>10.00     </td><td>9.9999    </td><td>5.64      </td><td>6.897     </td><td>8.9768    </td><td>8.679     </td></tr>\n",
       "\t<tr><td>8.0       </td><td>10.0      </td><td> 3.50     </td><td>3.30000   </td><td> 5.000000 </td><td> 0.3300000</td><td> 2.33330  </td><td> 6.600000 </td><td> 9.000000 </td><td>0.0       </td><td>...       </td><td>8.00      </td><td>3         </td><td>5.000     </td><td> 7.67600  </td><td> 1.00     </td><td>5         </td><td>6.00      </td><td>4.670     </td><td>2.0000    </td><td>1.000     </td></tr>\n",
       "\t<tr><td>5.0       </td><td> 2.0      </td><td>10.00     </td><td>1.00000   </td><td>10.000000 </td><td>10.0000000</td><td> 5.00000  </td><td>10.000000 </td><td>10.000000 </td><td>1.0       </td><td>...       </td><td>5.00      </td><td>5         </td><td>5.000     </td><td> 5.00000  </td><td>   NA     </td><td>5         </td><td>5.00      </td><td>5.000     </td><td>5.0000    </td><td>5.000     </td></tr>\n",
       "\t<tr><td>7.0       </td><td> 7.0      </td><td> 3.50     </td><td>6.50000   </td><td>10.000000 </td><td> 0.0000001</td><td> 6.77777  </td><td> 4.500000 </td><td> 7.600000 </td><td>3.0       </td><td>...       </td><td>7.50      </td><td>4         </td><td>7.000     </td><td> 5.60000  </td><td> 8.50     </td><td>5         </td><td>5.00      </td><td>7.600     </td><td>7.8000    </td><td>4.000     </td></tr>\n",
       "\t<tr><td>2.1       </td><td> 7.2      </td><td> 8.40     </td><td>9.90000   </td><td> 5.500000 </td><td> 3.7000000</td><td> 8.50000  </td><td> 7.100000 </td><td> 1.100000 </td><td>2.1       </td><td>...       </td><td>1.50      </td><td>3         </td><td>4.600     </td><td> 4.30000  </td><td> 8.90     </td><td>2.1       </td><td>4.80      </td><td>7.100     </td><td>5.6000    </td><td>3.200     </td></tr>\n",
       "</tbody>\n",
       "</table>\n"
      ],
      "text/latex": [
       "\\begin{tabular}{r|llllllllllllllllllllllllllllllllllllllllllllllllll}\n",
       " enjoy vibrant social events & exploring unrealistic yet intriguing ideas & travel plans list of ideas & think what to say long after conversation & support friends emotionally first & People can rarely upset you & often rely on people start a conversati & make sure your plan to get back on track & rarely worry good impression & challenge spend the whole weekend without feeling bored.  & ... & feel comfortable walking up to someone you find interesting and talk to him & doing what you feel like at any given moment & mood can change very quickly & often contemplate the reasons for human existence & often talk about your own feelings and emotions & rarely dwell on your regrets & see yourself as more of a realist than a visionary & easy to empathize with a person who has gone through something you never have & emotions control you more than you control them & rarely feel insecure\\\\\n",
       "\\hline\n",
       "\t 3.0        &  8.6       &  6.30      & 9.90000    &  7.200000  &  8.6000000 & 10.00000   &  8.600000  &  9.000000  & 1.0        & ...        & 6.90       & 7.4        & 1.200      &  9.90000   & 10.00      & 7.5        & 5.50       & 8.600      & 4.7000     & 8.900     \\\\\n",
       "\t 6.5        &  4.5       &  3.20      & 8.30000    &  4.560000  &  3.8000000 &  2.11000   &  9.810000  &  7.550000  & 8.3        & ...        & 4.36       & 5.33       & 6.300      &  8.00000   &  7.65      & NA         & 8.30       & 6.660      & 5.3300     & 4.890     \\\\\n",
       "\t 3.0        &  7.0       &  1.00      & 7.00000    &  3.000000  &  5.0000000 &  8.00000   &  9.000000  &  5.000000  & 2.0        & ...        & 5.00       & 6          & 2.000      &  2.00000   &  3.00      & 5          & 3.00       & 5.000      & 5.0000     & 7.000     \\\\\n",
       "\t 3.8        &  4.7       &  4.00      & 8.00000    &  3.000000  &  3.0000000 &  9.00000   & 10.000000  &  4.500000  & 1.0        & ...        & 6.50       & 5          & 9.000      &  1.00000   &  2.50      & 5          & 7.00       & 8.000      & 7.0000     & 1.000     \\\\\n",
       "\t 4.0        &  9.7       &  3.30      & 4.60000    &  7.876543  &  9.9000000 &  0.40000   &  7.200000  &  4.640000  & 2.2        & ...        & 9.60       & 5.5        & 1.200      & 10.00000   &  2.00      & 4          & 1.00       & 6.120      & 1.9100     & 2.000     \\\\\n",
       "\t 7.0        &  1.1       &  7.95      & 9.98756    &  8.729400  &  5.8213000 &  9.99999   &  7.898903  &  1.192341  & 1.0        & ...        & 1.20       & 6.78       & 3.123      &  7.99129   & 10.00      & 9.9999     & 5.64       & 6.897      & 8.9768     & 8.679     \\\\\n",
       "\t 8.0        & 10.0       &  3.50      & 3.30000    &  5.000000  &  0.3300000 &  2.33330   &  6.600000  &  9.000000  & 0.0        & ...        & 8.00       & 3          & 5.000      &  7.67600   &  1.00      & 5          & 6.00       & 4.670      & 2.0000     & 1.000     \\\\\n",
       "\t 5.0        &  2.0       & 10.00      & 1.00000    & 10.000000  & 10.0000000 &  5.00000   & 10.000000  & 10.000000  & 1.0        & ...        & 5.00       & 5          & 5.000      &  5.00000   &    NA      & 5          & 5.00       & 5.000      & 5.0000     & 5.000     \\\\\n",
       "\t 7.0        &  7.0       &  3.50      & 6.50000    & 10.000000  &  0.0000001 &  6.77777   &  4.500000  &  7.600000  & 3.0        & ...        & 7.50       & 4          & 7.000      &  5.60000   &  8.50      & 5          & 5.00       & 7.600      & 7.8000     & 4.000     \\\\\n",
       "\t 2.1        &  7.2       &  8.40      & 9.90000    &  5.500000  &  3.7000000 &  8.50000   &  7.100000  &  1.100000  & 2.1        & ...        & 1.50       & 3          & 4.600      &  4.30000   &  8.90      & 2.1        & 4.80       & 7.100      & 5.6000     & 3.200     \\\\\n",
       "\\end{tabular}\n"
      ],
      "text/markdown": [
       "\n",
       "| enjoy vibrant social events | exploring unrealistic yet intriguing ideas | travel plans list of ideas | think what to say long after conversation | support friends emotionally first | People can rarely upset you | often rely on people start a conversati | make sure your plan to get back on track | rarely worry good impression | challenge spend the whole weekend without feeling bored.  | ... | feel comfortable walking up to someone you find interesting and talk to him | doing what you feel like at any given moment | mood can change very quickly | often contemplate the reasons for human existence | often talk about your own feelings and emotions | rarely dwell on your regrets | see yourself as more of a realist than a visionary | easy to empathize with a person who has gone through something you never have | emotions control you more than you control them | rarely feel insecure |\n",
       "|---|---|---|---|---|---|---|---|---|---|---|---|---|---|---|---|---|---|---|---|---|\n",
       "| 3.0        |  8.6       |  6.30      | 9.90000    |  7.200000  |  8.6000000 | 10.00000   |  8.600000  |  9.000000  | 1.0        | ...        | 6.90       | 7.4        | 1.200      |  9.90000   | 10.00      | 7.5        | 5.50       | 8.600      | 4.7000     | 8.900      |\n",
       "| 6.5        |  4.5       |  3.20      | 8.30000    |  4.560000  |  3.8000000 |  2.11000   |  9.810000  |  7.550000  | 8.3        | ...        | 4.36       | 5.33       | 6.300      |  8.00000   |  7.65      | NA         | 8.30       | 6.660      | 5.3300     | 4.890      |\n",
       "| 3.0        |  7.0       |  1.00      | 7.00000    |  3.000000  |  5.0000000 |  8.00000   |  9.000000  |  5.000000  | 2.0        | ...        | 5.00       | 6          | 2.000      |  2.00000   |  3.00      | 5          | 3.00       | 5.000      | 5.0000     | 7.000      |\n",
       "| 3.8        |  4.7       |  4.00      | 8.00000    |  3.000000  |  3.0000000 |  9.00000   | 10.000000  |  4.500000  | 1.0        | ...        | 6.50       | 5          | 9.000      |  1.00000   |  2.50      | 5          | 7.00       | 8.000      | 7.0000     | 1.000      |\n",
       "| 4.0        |  9.7       |  3.30      | 4.60000    |  7.876543  |  9.9000000 |  0.40000   |  7.200000  |  4.640000  | 2.2        | ...        | 9.60       | 5.5        | 1.200      | 10.00000   |  2.00      | 4          | 1.00       | 6.120      | 1.9100     | 2.000      |\n",
       "| 7.0        |  1.1       |  7.95      | 9.98756    |  8.729400  |  5.8213000 |  9.99999   |  7.898903  |  1.192341  | 1.0        | ...        | 1.20       | 6.78       | 3.123      |  7.99129   | 10.00      | 9.9999     | 5.64       | 6.897      | 8.9768     | 8.679      |\n",
       "| 8.0        | 10.0       |  3.50      | 3.30000    |  5.000000  |  0.3300000 |  2.33330   |  6.600000  |  9.000000  | 0.0        | ...        | 8.00       | 3          | 5.000      |  7.67600   |  1.00      | 5          | 6.00       | 4.670      | 2.0000     | 1.000      |\n",
       "| 5.0        |  2.0       | 10.00      | 1.00000    | 10.000000  | 10.0000000 |  5.00000   | 10.000000  | 10.000000  | 1.0        | ...        | 5.00       | 5          | 5.000      |  5.00000   |    NA      | 5          | 5.00       | 5.000      | 5.0000     | 5.000      |\n",
       "| 7.0        |  7.0       |  3.50      | 6.50000    | 10.000000  |  0.0000001 |  6.77777   |  4.500000  |  7.600000  | 3.0        | ...        | 7.50       | 4          | 7.000      |  5.60000   |  8.50      | 5          | 5.00       | 7.600      | 7.8000     | 4.000      |\n",
       "| 2.1        |  7.2       |  8.40      | 9.90000    |  5.500000  |  3.7000000 |  8.50000   |  7.100000  |  1.100000  | 2.1        | ...        | 1.50       | 3          | 4.600      |  4.30000   |  8.90      | 2.1        | 4.80       | 7.100      | 5.6000     | 3.200      |\n",
       "\n"
      ],
      "text/plain": [
       "   enjoy vibrant social events exploring unrealistic yet intriguing ideas\n",
       "1  3.0                          8.6                                      \n",
       "2  6.5                          4.5                                      \n",
       "3  3.0                          7.0                                      \n",
       "4  3.8                          4.7                                      \n",
       "5  4.0                          9.7                                      \n",
       "6  7.0                          1.1                                      \n",
       "7  8.0                         10.0                                      \n",
       "8  5.0                          2.0                                      \n",
       "9  7.0                          7.0                                      \n",
       "10 2.1                          7.2                                      \n",
       "   travel plans list of ideas think what to say long after conversation\n",
       "1   6.30                      9.90000                                  \n",
       "2   3.20                      8.30000                                  \n",
       "3   1.00                      7.00000                                  \n",
       "4   4.00                      8.00000                                  \n",
       "5   3.30                      4.60000                                  \n",
       "6   7.95                      9.98756                                  \n",
       "7   3.50                      3.30000                                  \n",
       "8  10.00                      1.00000                                  \n",
       "9   3.50                      6.50000                                  \n",
       "10  8.40                      9.90000                                  \n",
       "   support friends emotionally first People can rarely upset you\n",
       "1   7.200000                          8.6000000                 \n",
       "2   4.560000                          3.8000000                 \n",
       "3   3.000000                          5.0000000                 \n",
       "4   3.000000                          3.0000000                 \n",
       "5   7.876543                          9.9000000                 \n",
       "6   8.729400                          5.8213000                 \n",
       "7   5.000000                          0.3300000                 \n",
       "8  10.000000                         10.0000000                 \n",
       "9  10.000000                          0.0000001                 \n",
       "10  5.500000                          3.7000000                 \n",
       "   often rely on people start a conversati\n",
       "1  10.00000                               \n",
       "2   2.11000                               \n",
       "3   8.00000                               \n",
       "4   9.00000                               \n",
       "5   0.40000                               \n",
       "6   9.99999                               \n",
       "7   2.33330                               \n",
       "8   5.00000                               \n",
       "9   6.77777                               \n",
       "10  8.50000                               \n",
       "   make sure your plan to get back on track rarely worry good impression\n",
       "1   8.600000                                 9.000000                   \n",
       "2   9.810000                                 7.550000                   \n",
       "3   9.000000                                 5.000000                   \n",
       "4  10.000000                                 4.500000                   \n",
       "5   7.200000                                 4.640000                   \n",
       "6   7.898903                                 1.192341                   \n",
       "7   6.600000                                 9.000000                   \n",
       "8  10.000000                                10.000000                   \n",
       "9   4.500000                                 7.600000                   \n",
       "10  7.100000                                 1.100000                   \n",
       "   challenge spend the whole weekend without feeling bored.  ...\n",
       "1  1.0                                                       ...\n",
       "2  8.3                                                       ...\n",
       "3  2.0                                                       ...\n",
       "4  1.0                                                       ...\n",
       "5  2.2                                                       ...\n",
       "6  1.0                                                       ...\n",
       "7  0.0                                                       ...\n",
       "8  1.0                                                       ...\n",
       "9  3.0                                                       ...\n",
       "10 2.1                                                       ...\n",
       "   feel comfortable walking up to someone you find interesting and talk to him\n",
       "1  6.90                                                                       \n",
       "2  4.36                                                                       \n",
       "3  5.00                                                                       \n",
       "4  6.50                                                                       \n",
       "5  9.60                                                                       \n",
       "6  1.20                                                                       \n",
       "7  8.00                                                                       \n",
       "8  5.00                                                                       \n",
       "9  7.50                                                                       \n",
       "10 1.50                                                                       \n",
       "   doing what you feel like at any given moment mood can change very quickly\n",
       "1  7.4                                          1.200                       \n",
       "2  5.33                                         6.300                       \n",
       "3  6                                            2.000                       \n",
       "4  5                                            9.000                       \n",
       "5  5.5                                          1.200                       \n",
       "6  6.78                                         3.123                       \n",
       "7  3                                            5.000                       \n",
       "8  5                                            5.000                       \n",
       "9  4                                            7.000                       \n",
       "10 3                                            4.600                       \n",
       "   often contemplate the reasons for human existence\n",
       "1   9.90000                                         \n",
       "2   8.00000                                         \n",
       "3   2.00000                                         \n",
       "4   1.00000                                         \n",
       "5  10.00000                                         \n",
       "6   7.99129                                         \n",
       "7   7.67600                                         \n",
       "8   5.00000                                         \n",
       "9   5.60000                                         \n",
       "10  4.30000                                         \n",
       "   often talk about your own feelings and emotions rarely dwell on your regrets\n",
       "1  10.00                                           7.5                         \n",
       "2   7.65                                           NA                          \n",
       "3   3.00                                           5                           \n",
       "4   2.50                                           5                           \n",
       "5   2.00                                           4                           \n",
       "6  10.00                                           9.9999                      \n",
       "7   1.00                                           5                           \n",
       "8     NA                                           5                           \n",
       "9   8.50                                           5                           \n",
       "10  8.90                                           2.1                         \n",
       "   see yourself as more of a realist than a visionary\n",
       "1  5.50                                              \n",
       "2  8.30                                              \n",
       "3  3.00                                              \n",
       "4  7.00                                              \n",
       "5  1.00                                              \n",
       "6  5.64                                              \n",
       "7  6.00                                              \n",
       "8  5.00                                              \n",
       "9  5.00                                              \n",
       "10 4.80                                              \n",
       "   easy to empathize with a person who has gone through something you never have\n",
       "1  8.600                                                                        \n",
       "2  6.660                                                                        \n",
       "3  5.000                                                                        \n",
       "4  8.000                                                                        \n",
       "5  6.120                                                                        \n",
       "6  6.897                                                                        \n",
       "7  4.670                                                                        \n",
       "8  5.000                                                                        \n",
       "9  7.600                                                                        \n",
       "10 7.100                                                                        \n",
       "   emotions control you more than you control them rarely feel insecure\n",
       "1  4.7000                                          8.900               \n",
       "2  5.3300                                          4.890               \n",
       "3  5.0000                                          7.000               \n",
       "4  7.0000                                          1.000               \n",
       "5  1.9100                                          2.000               \n",
       "6  8.9768                                          8.679               \n",
       "7  2.0000                                          1.000               \n",
       "8  5.0000                                          5.000               \n",
       "9  7.8000                                          4.000               \n",
       "10 5.6000                                          3.200               "
      ]
     },
     "metadata": {},
     "output_type": "display_data"
    }
   ],
   "source": [
    "#Use colnames (data) to shorten all the colnames\n",
    "colnames(data)[1]<-\"enjoy vibrant social events\"\n",
    "colnames(data)[2]<-\"exploring unrealistic yet intriguing ideas\"\n",
    "colnames(data)[3]<-\"travel plans list of ideas\"\n",
    "colnames(data)[4]<-\"think what to say long after conversation\"\n",
    "colnames(data)[5]<-\"support friends emotionally first\"\n",
    "colnames(data)[6]<-\"People can rarely upset you\"\n",
    "colnames(data)[7]<-\"often rely on people start a conversati\"\n",
    "colnames(data)[8]<-\"make sure your plan to get back on track\"\n",
    "colnames(data)[9]<-\"rarely worry good impression\"\n",
    "colnames(data)[10]<-\"challenge spend the whole weekend without feeling bored. \"\n",
    "colnames(data)[11]<-\"more of a detail-oriented than a big picture\"\n",
    "colnames(data)[12]<-\"very affectionate with people you care about\"\n",
    "colnames(data)[13]<-\"careful and methodical approach to life\"\n",
    "colnames(data)[14]<-\"still bothered by the mistakes made long time ago.\"\n",
    "colnames(data)[15]<-\"mostly be found farther away from the action\"\n",
    "colnames(data)[16]<-\"spend ages browsing the catalog on movie\"\n",
    "colnames(data)[17]<-\"stay calm under pressure\"\n",
    "colnames(data)[18]<-\"no problem jumping right into others conversation\"\n",
    "\n",
    "colnames(data)[19]<-\"dreams tend to be bizarre and fantastical\"\n",
    "colnames(data)[20]<-\"OK to step on others to get ahead in life\"\n",
    "colnames(data)[21]<-\"gold rarely getting sidetracked\"\n",
    "colnames(data)[22]<-\"tend to start doubting yourself when make a mistake\"\n",
    "colnames(data)[23]<-\"rarely introduce yourself to new people\"\n",
    "colnames(data)[24]<-\"lose interest in a discussion when it gets philosophical\"\n",
    "colnames(data)[25]<-\"never cry in front of others\"\n",
    "colnames(data)[26]<-\"feel more drawn to places with a bustling and busy atmosphere\"\n",
    "colnames(data)[27]<-\"discussing different views on what the world could look like in the future\"\n",
    "colnames(data)[28]<-\"life-changing choices mostly listen to heart\"\n",
    "colnames(data)[29]<-\"cannot imagine your life to the study of something that you cannot see\"\n",
    "colnames(data)[30]<-\"prefer to get your revenge rather than forgive\"\n",
    "colnames(data)[31]<-\"often make decisions on a whim\"\n",
    "colnames(data)[32]<-\"The time spend by yourself often being more interesting and satisfying\"\n",
    "colnames(data)[33]<-\"often interpreting the real meaning or the message of song or movie\"\n",
    "colnames(data)[34]<-\"always know exactly what you want\"\n",
    "colnames(data)[35]<-\"rarely think back on the choices you made\"\n",
    "colnames(data)[36]<-\"stick to quieter and less crowded areas in public\"\n",
    "\n",
    "colnames(data)[37]<-\"tend to focus on present realities\"\n",
    "colnames(data)[38]<-\"have a hard time understanding other people feelings\"\n",
    "colnames(data)[39]<-\"prefer to make as many decisions upfront as possible on a project\"\n",
    "colnames(data)[40]<-\"wonder how long they become disappointed in you\"\n",
    "colnames(data)[41]<-\"feel comfortable walking up to someone you find interesting and talk to him\"\n",
    "colnames(data)[42]<-\"doing what you feel like at any given moment\"\n",
    "colnames(data)[43]<-\"mood can change very quickly\"\n",
    "colnames(data)[44]<-\"often contemplate the reasons for human existence\"\n",
    "colnames(data)[45]<-\"often talk about your own feelings and emotions\"\n",
    "colnames(data)[46]<-\"rarely dwell on your regrets\"\n",
    "colnames(data)[47]<-\"see yourself as more of a realist than a visionary\"\n",
    "colnames(data)[48]<-\"easy to empathize with a person who has gone through something you never have\"\n",
    "colnames(data)[49]<-\"emotions control you more than you control them\"\n",
    "colnames(data)[50]<-\"rarely feel insecure\"\n",
    "#Replace all the empty place into NA\n",
    "data[data==\"\"]<-NA\n",
    "#Print out the new data after shorten all the colnames\n",
    "head(data,10)"
   ]
  },
  {
   "cell_type": "markdown",
   "metadata": {},
   "source": [
    "#### (1) Simple Linear Regression-'confident person' and 'You always know exactly what you want'"
   ]
  },
  {
   "cell_type": "code",
   "execution_count": 6,
   "metadata": {},
   "outputs": [
    {
     "name": "stderr",
     "output_type": "stream",
     "text": [
      "Registered S3 methods overwritten by 'ggplot2':\n",
      "  method         from \n",
      "  [.quosures     rlang\n",
      "  c.quosures     rlang\n",
      "  print.quosures rlang\n"
     ]
    },
    {
     "data": {
      "text/plain": [
       "\n",
       "Call:\n",
       "lm(formula = confidence ~ want, data = conf_want)\n",
       "\n",
       "Residuals:\n",
       "    Min      1Q  Median      3Q     Max \n",
       "-4.3702 -2.6607 -0.1242  2.4470  5.0973 \n",
       "\n",
       "Coefficients:\n",
       "            Estimate Std. Error t value Pr(>|t|)   \n",
       "(Intercept)   4.4257     1.2387   3.573  0.00122 **\n",
       "want          0.0954     0.1897   0.503  0.61868   \n",
       "---\n",
       "Signif. codes:  0 '***' 0.001 '**' 0.01 '*' 0.05 '.' 0.1 ' ' 1\n",
       "\n",
       "Residual standard error: 2.955 on 30 degrees of freedom\n",
       "Multiple R-squared:  0.008361,\tAdjusted R-squared:  -0.02469 \n",
       "F-statistic: 0.2529 on 1 and 30 DF,  p-value: 0.6187\n"
      ]
     },
     "metadata": {},
     "output_type": "display_data"
    },
    {
     "data": {
      "image/png": "[encoded data removed]",
      "text/plain": [
       "plot without title"
      ]
     },
     "metadata": {},
     "output_type": "display_data"
    }
   ],
   "source": [
    "#Select the data of `rarely worry good impression` and replace those numbers which are smaller than one into 1.\n",
    "data$`rarely worry good impression`[data$`rarely worry good impression` <= 1] <-1\n",
    "#Replace those numbers which are bigger than ten into 10.\n",
    "data$`rarely worry good impression`[data$`rarely worry good impression` >= 10] <-10\n",
    "#Called this column we selected as 'confidence'\n",
    "confidence<-data$`rarely worry good impression`\n",
    "\n",
    "#Select the data of `always know exactly what you want` and replace those numbers which are smaller than one into 1.\n",
    "data$`always know exactly what you want`[data$`always know exactly what you want` <= 1] <-1\n",
    "#Replace those numbers which are bigger than ten into 10.\n",
    "data$`always know exactly what you want`[data$`always know exactly what you want` >= 10] <-10\n",
    "#Called this column we selected as 'want'\n",
    "want<-data$`always know exactly what you want`\n",
    "\n",
    "\n",
    "#Use cbind to conbind the data 'confidence' and 'want'\n",
    "conf_want<-cbind(confidence,want)\n",
    "#Transfer the data into data frame\n",
    "\n",
    "conf_want<-as.data.frame(conf_want)\n",
    "#Library the package we are going to use\n",
    "library(ggplot2)\n",
    "#Create simple linear regression between 'confident person' and 'know exactly what you want'\n",
    "mod1 = lm(formula = confidence ~ want, data = conf_want)\n",
    "#Use summary to check their coefficients in order to draw an abline on the plot\n",
    "summary(mod1)\n",
    "\n",
    "#Create a plot showing the correlation\n",
    "ggplot(conf_want, aes(x=want, y=confidence)) +geom_point(color=\"darkblue\")+\n",
    "  geom_abline(intercept = 4.4257, slope = 0.0954, color=\"red\", linetype=\"dashed\", size=1.5) + \n",
    "  labs(title = \"Correlation between confident and know exactly what you want \")+ylab(\"confident\")+\n",
    "xlab(\"Know exactly what you want\")\n",
    "\n"
   ]
  },
  {
   "cell_type": "markdown",
   "metadata": {},
   "source": [
    "##### According to the result, we can see that they have a positive correlation but it's not pretty high with each other in which the coefficient is only 0.0954. The p-value is 0.61868 and the R square is 0.008361, then approximately 0.008 of the observed variation can be explained by the model's inputs.\n",
    "##### The result showed us that those people with confidence might be clear on what they exactly want and won't be easily affected by others. It is the same as what we expect to see in the beginning."
   ]
  },
  {
   "cell_type": "markdown",
   "metadata": {},
   "source": [
    "#### (2)Simple Linear Regression-'confident person' and 'You are dedicated and focused on your goals, only rarely getting sidetracked'"
   ]
  },
  {
   "cell_type": "code",
   "execution_count": 7,
   "metadata": {},
   "outputs": [
    {
     "data": {
      "text/plain": [
       "\n",
       "Call:\n",
       "lm(formula = confidence ~ gold, data = conf_gold)\n",
       "\n",
       "Residuals:\n",
       "    Min      1Q  Median      3Q     Max \n",
       "-3.9539 -2.8307 -0.0303  2.6400  5.1987 \n",
       "\n",
       "Coefficients:\n",
       "            Estimate Std. Error t value Pr(>|t|)   \n",
       "(Intercept)  5.31020    1.54378    3.44  0.00173 **\n",
       "gold        -0.05089    0.23122   -0.22  0.82728   \n",
       "---\n",
       "Signif. codes:  0 '***' 0.001 '**' 0.01 '*' 0.05 '.' 0.1 ' ' 1\n",
       "\n",
       "Residual standard error: 2.965 on 30 degrees of freedom\n",
       "Multiple R-squared:  0.001612,\tAdjusted R-squared:  -0.03167 \n",
       "F-statistic: 0.04845 on 1 and 30 DF,  p-value: 0.8273\n"
      ]
     },
     "metadata": {},
     "output_type": "display_data"
    },
    {
     "data": {
      "image/png": "[encoded data removed]",
      "text/plain": [
       "plot without title"
      ]
     },
     "metadata": {},
     "output_type": "display_data"
    }
   ],
   "source": [
    "#Select the data of `gold rarely getting sidetracked` and replace those numbers which are smaller than one into 1.\n",
    "data$`gold rarely getting sidetracked`[data$`gold rarely getting sidetracked` <= 1] <-1\n",
    "#Replace those numbers which are bigger than ten into 10.\n",
    "data$`gold rarely getting sidetracked`[data$`gold rarely getting sidetracked` >= 10] <-10\n",
    "#Called this column we selected as 'gold'\n",
    "gold<-data$`gold rarely getting sidetracked`\n",
    "\n",
    "#Use cbind to conbind the data 'confidence' and 'gold'\n",
    "conf_gold<-cbind(confidence,gold)\n",
    "#Transfer the data into data frame\n",
    "conf_gold<-as.data.frame(conf_gold)\n",
    "#Create simple linear regression between 'confident person' and `gold rarely getting sidetracked`\n",
    "mod2 = lm(formula = confidence ~ gold, data = conf_gold)\n",
    "#Use summary to check their coefficients in order to draw an abline on the plot\n",
    "summary(mod2)\n",
    "\n",
    "#Create a plot showing the correlation\n",
    "ggplot(conf_gold, aes(x=gold, y=confidence)) +geom_point(color=\"darkblue\")+\n",
    "  geom_abline(intercept = 5.3102, slope = -0.0509, color=\"red\", linetype=\"dashed\", size=1.5) + \n",
    "  labs(title = \"Correlation between confident and gold rarely getting sidetracked \")+ylab(\"confident\")+\n",
    "  xlab(\"gold rarely getting sidetracked\")\n"
   ]
  },
  {
   "cell_type": "markdown",
   "metadata": {},
   "source": [
    "##### According to the result, we can see that they have a negative correlation in which the coefficient is -0.05089. The p-value in this model is 0.8273 and the R square is 0.001612, then approximately 0.001 of the observed variation can be explained by the model's inputs.\n",
    "##### The result of this model is actually out of our expectations although the negative correlation wasn't really high. We were hoping that we could see a positive correlation between them, but it seems that those people with confidence might be sidetracked by others."
   ]
  },
  {
   "cell_type": "markdown",
   "metadata": {},
   "source": [
    "#### (3)Simple Linear Regression-'confident person' and 'People can rarely upset you'"
   ]
  },
  {
   "cell_type": "code",
   "execution_count": 8,
   "metadata": {},
   "outputs": [
    {
     "data": {
      "text/plain": [
       "\n",
       "Call:\n",
       "lm(formula = confidence ~ upset, data = conf_upset)\n",
       "\n",
       "Residuals:\n",
       "    Min      1Q  Median      3Q     Max \n",
       "-4.3441 -2.5897 -0.0853  2.4760  4.4245 \n",
       "\n",
       "Coefficients:\n",
       "            Estimate Std. Error t value Pr(>|t|)    \n",
       "(Intercept)   4.4480     1.2003   3.706 0.000884 ***\n",
       "upset         0.1274     0.2053   0.621 0.539523    \n",
       "---\n",
       "Signif. codes:  0 '***' 0.001 '**' 0.01 '*' 0.05 '.' 0.1 ' ' 1\n",
       "\n",
       "Residual standard error: 2.903 on 29 degrees of freedom\n",
       "  (1 observation deleted due to missingness)\n",
       "Multiple R-squared:  0.01312,\tAdjusted R-squared:  -0.02091 \n",
       "F-statistic: 0.3855 on 1 and 29 DF,  p-value: 0.5395\n"
      ]
     },
     "metadata": {},
     "output_type": "display_data"
    },
    {
     "name": "stderr",
     "output_type": "stream",
     "text": [
      "Warning message:\n",
      "\"Removed 1 rows containing missing values (geom_point).\""
     ]
    },
    {
     "data": {
      "image/png": "[encoded data removed]",
      "text/plain": [
       "plot without title"
      ]
     },
     "metadata": {},
     "output_type": "display_data"
    }
   ],
   "source": [
    "#Select the data of `People can rarely upset you` and replace those numbers which are smaller than one into 1.\n",
    "data$`People can rarely upset you`[data$`People can rarely upset you` <= 1] <-1\n",
    "#Replace those numbers which are bigger than ten into 10.\n",
    "data$`People can rarely upset you`[data$`People can rarely upset you` >= 10] <-10\n",
    "#Called this column we selected as 'upset'\n",
    "upset<-data$`People can rarely upset you`\n",
    "\n",
    "#Use cbind to conbind the data 'confidence' and 'upset'\n",
    "conf_upset<-cbind(confidence,upset)\n",
    "#Transfer the data into data frame\n",
    "conf_upset<-as.data.frame(conf_upset)\n",
    "#Create simple linear regression between 'confident person' and 'people can rarely upset you'\n",
    "mod3 = lm(formula = confidence ~ upset, data = conf_upset)\n",
    "#Use summary to check their coefficients in order to draw an abline on the plot\n",
    "summary(mod3)\n",
    "\n",
    "#Create a plot showing the correlation\n",
    "ggplot(conf_upset, aes(x=upset, y=confidence)) +geom_point(color=\"darkblue\")+\n",
    "  geom_abline(intercept = 4.448, slope = 0.127, color=\"red\", linetype=\"dashed\", size=1.5) + \n",
    "  labs(title = \"Correlation between confident and people can rarely upset you \")+ylab(\"confident\")+\n",
    "  xlab(\"people can rarely upset you\")\n"
   ]
  },
  {
   "cell_type": "markdown",
   "metadata": {},
   "source": [
    "##### According to the result, we can see that the p-value is lower which is 0.539523, and the correlation is higher than the first model which is 0.1274. The R square is 0.01312 which is also higher and it means that approximately 0.01 of the observed variation can be explained by the model's inputs and in this point is much better than the first and the second model.\n",
    "##### The positive correlation in this model can clarify those people could be less affected by others seems their mood won't change that easily by other people."
   ]
  },
  {
   "cell_type": "markdown",
   "metadata": {},
   "source": [
    "#### (4)Simple Linear Regression-'confident person' and 'When you know someone thinks highly of you, you also wonder how long it will be until they become disappointed in you'"
   ]
  },
  {
   "cell_type": "code",
   "execution_count": 9,
   "metadata": {
    "scrolled": false
   },
   "outputs": [
    {
     "name": "stderr",
     "output_type": "stream",
     "text": [
      "Your code contains a unicode char which cannot be displayed in your\n",
      "current locale and R will silently convert it to an escaped form when the\n",
      "R kernel executes this code. This can lead to subtle errors if you use\n",
      "such chars to do comparisons. For more information, please see\n",
      "https://github.com/IRkernel/repr/wiki/Problems-with-unicode-on-windows"
     ]
    },
    {
     "data": {
      "text/plain": [
       "\n",
       "Call:\n",
       "lm(formula = confidence ~ disapoint, data = conf_disapoint)\n",
       "\n",
       "Residuals:\n",
       "   Min     1Q Median     3Q    Max \n",
       "-4.945 -2.207 -0.046  2.734  4.963 \n",
       "\n",
       "Coefficients:\n",
       "            Estimate Std. Error t value Pr(>|t|)    \n",
       "(Intercept)   6.1721     0.9617   6.418  5.1e-07 ***\n",
       "disapoint    -0.2269     0.1642  -1.382    0.178    \n",
       "---\n",
       "Signif. codes:  0 '***' 0.001 '**' 0.01 '*' 0.05 '.' 0.1 ' ' 1\n",
       "\n",
       "Residual standard error: 2.901 on 29 degrees of freedom\n",
       "  (1 observation deleted due to missingness)\n",
       "Multiple R-squared:  0.06179,\tAdjusted R-squared:  0.02944 \n",
       "F-statistic:  1.91 on 1 and 29 DF,  p-value: 0.1775\n"
      ]
     },
     "metadata": {},
     "output_type": "display_data"
    },
    {
     "name": "stderr",
     "output_type": "stream",
     "text": [
      "Warning message:\n",
      "\"Removed 1 rows containing missing values (geom_point).\""
     ]
    },
    {
     "data": {
      "image/png": "[encoded data removed]",
      "text/plain": [
       "plot without title"
      ]
     },
     "metadata": {},
     "output_type": "display_data"
    }
   ],
   "source": [
    "#Select the data of `wonder how long they become disappointed in you` and replace those numbers which are smaller than one into 1.\n",
    "data$`wonder how long they become disappointed in you`[data$`wonder how long they become disappointed in you` <= 1] <-1\n",
    "#Replace those numbers which are bigger than ten into 10.\n",
    "data$`wonder how long they become disappointed in you`[data$`wonder how long they become disappointed in you` >= 10] <-10\n",
    "#Called this column we selected as 'disapoint'\n",
    "disapoint<-data$`wonder how long they become disappointed in you`\n",
    "\n",
    "#Use cbind to conbind the data 'confidence' and 'disapoint'\n",
    "conf_disapoint<-cbind(confidence,disapoint)\n",
    "#Transfer the data into data frame\n",
    "conf_disapoint<-as.data.frame(conf_disapoint)\n",
    "#Create simple linear regression between 'confident person' and 'wonder how long people become disappointed in you'¶\n",
    "mod4 = lm(formula = confidence ~ disapoint, data = conf_disapoint)\n",
    "#Use summary to check their coefficients in order to draw an abline on the plot\n",
    "summary(mod4)\n",
    "\n",
    "#Create a plot showing the correlation\n",
    "ggplot(conf_disapoint, aes(x=disapoint, y=confidence)) +geom_point(color=\"darkblue\")+\n",
    "  geom_abline(intercept = 6.172, slope = -0.227, color=\"red\", linetype=\"dashed\", size=1.5) + \n",
    "  labs(title = \"Correlation between confident and wonder how long people become disappointed in you \")+ylab(\"confident\")+\n",
    "  xlab(\"wonder how long people become disappointed in you\")"
   ]
  },
  {
   "cell_type": "markdown",
   "metadata": {},
   "source": [
    "##### According to the result, we can see that they have a negative correlation in which the coefficient is -0.2269. The p-value in this model is 0.1775 and the R square is 0.06179, then approximately 0.06 of the observed variation can be explained by the model's inputs.\n",
    "##### This is actually the result we want to see because as they have a negative correlation which means those people with confidence rarely cares about what other people think and they don't even worried about when would they disappointed other people."
   ]
  },
  {
   "cell_type": "markdown",
   "metadata": {},
   "source": [
    "#### (5)Simple Linear Regression-'confident person' and 'You rarely think back on the choices you made and wonder what you could have done differently'"
   ]
  },
  {
   "cell_type": "code",
   "execution_count": 10,
   "metadata": {},
   "outputs": [
    {
     "data": {
      "text/plain": [
       "\n",
       "Call:\n",
       "lm(formula = confidence ~ choices, data = conf_choices)\n",
       "\n",
       "Residuals:\n",
       "    Min      1Q  Median      3Q     Max \n",
       "-4.8016 -2.1056  0.2104  2.1844  5.1184 \n",
       "\n",
       "Coefficients:\n",
       "            Estimate Std. Error t value Pr(>|t|)    \n",
       "(Intercept)   3.9616     1.0001   3.961 0.000445 ***\n",
       "choices       0.1840     0.1745   1.055 0.300289    \n",
       "---\n",
       "Signif. codes:  0 '***' 0.001 '**' 0.01 '*' 0.05 '.' 0.1 ' ' 1\n",
       "\n",
       "Residual standard error: 2.873 on 29 degrees of freedom\n",
       "  (1 observation deleted due to missingness)\n",
       "Multiple R-squared:  0.03694,\tAdjusted R-squared:  0.00373 \n",
       "F-statistic: 1.112 on 1 and 29 DF,  p-value: 0.3003\n"
      ]
     },
     "metadata": {},
     "output_type": "display_data"
    },
    {
     "name": "stderr",
     "output_type": "stream",
     "text": [
      "Warning message:\n",
      "\"Removed 1 rows containing missing values (geom_point).\""
     ]
    },
    {
     "data": {
      "image/png": "[encoded data removed]",
      "text/plain": [
       "plot without title"
      ]
     },
     "metadata": {},
     "output_type": "display_data"
    }
   ],
   "source": [
    "#Select the data of `rarely think back on the choices you made` and replace those numbers which are smaller than one into 1.\n",
    "data$`rarely think back on the choices you made`[data$`rarely think back on the choices you made` <= 1] <-1\n",
    "#Replace those numbers which are bigger than ten into 10.\n",
    "data$`rarely think back on the choices you made`[data$`rarely think back on the choices you made` >= 10] <-10\n",
    "#Called this column we selected as 'choices'\n",
    "choices<-data$`rarely think back on the choices you made`\n",
    "\n",
    "#Use cbind to conbind the data 'confidence' and 'choices'\n",
    "conf_choices<-cbind(confidence,choices)\n",
    "#Transfer the data into data frame\n",
    "conf_choices<-as.data.frame(conf_choices)\n",
    "#Create simple linear regression between 'confident person' and 'rarely think back on the choices you made'\n",
    "mod5 = lm(formula = confidence ~ choices, data = conf_choices)\n",
    "#Use summary to check their coefficients in order to draw an abline on the plot\n",
    "summary(mod5)\n",
    "\n",
    "#Create a plot showing the correlation\n",
    "ggplot(conf_choices, aes(x=choices, y=confidence)) +geom_point(color=\"darkblue\")+\n",
    "  geom_abline(intercept = 3.962, slope = 0.184, color=\"red\", linetype=\"dashed\", size=1.5) + \n",
    "  labs(title = \"Correlation between confident and rarely think back on the choices you made \")+ylab(\"confident\")+\n",
    "  xlab(\"rarely think back on the choices you made\")\n"
   ]
  },
  {
   "cell_type": "markdown",
   "metadata": {},
   "source": [
    "##### According to the result, we can see that they have a positive correlation in which the coefficient is 0.1840. The p-value is 0.3003 and the R square is 0.03694, then approximately 0.037 of the observed variation can be explained by the model's inputs.\n",
    "##### The result is also what we expect to see because it could explain that those people with confidence might be more focused on the things present and rarely affect by other people's opinions. Because most of the time that makes us think back on the choices we made were other people's judgments on the things we have done.Therefore, those people with confidence could be less affected by others. "
   ]
  },
  {
   "cell_type": "markdown",
   "metadata": {},
   "source": [
    "### 4. Model Comparison"
   ]
  },
  {
   "cell_type": "markdown",
   "metadata": {},
   "source": [
    "#### In order to compare each model to find the best model, we are going to compare each R Square and P-value of them"
   ]
  },
  {
   "cell_type": "markdown",
   "metadata": {},
   "source": [
    "#### Compare the R square"
   ]
  },
  {
   "cell_type": "code",
   "execution_count": 11,
   "metadata": {},
   "outputs": [
    {
     "name": "stdout",
     "output_type": "stream",
     "text": [
      "        rsquare1    rsquare2   rsquare3   rsquare4   rsquare5\n",
      "[1,] 0.008360975 0.001612285 0.01311877 0.06179484 0.03693859\n"
     ]
    }
   ],
   "source": [
    "#Renamed the summary of mod1\n",
    "mod1s<-summary(mod1)\n",
    "#Select the R square from model 1\n",
    "rsquare1<-mod1s$r.squared\n",
    "\n",
    "#Renamed the summary of mod2\n",
    "mod2s<-summary(mod2)\n",
    "#Select the R square from model 2\n",
    "rsquare2<-mod2s$r.squared\n",
    "\n",
    "#Renamed the summary of mod3\n",
    "mod3s<-summary(mod3)\n",
    "#Select the R square from model 3\n",
    "rsquare3<-mod3s$r.squared\n",
    "\n",
    "#Renamed the summary of mod4\n",
    "mod4s<-summary(mod4)\n",
    "#Select the R square from model 4\n",
    "rsquare4<-mod4s$r.squared\n",
    "\n",
    "#Renamed the summary of mod5\n",
    "mod5s<-summary(mod5)\n",
    "#Select the R square from model 5\n",
    "rsquare5<-mod5s$r.squared\n",
    "\n",
    "#Combine all the rsquare \n",
    "rsquare<-cbind(rsquare1,rsquare2,rsquare3,rsquare4,rsquare5)\n",
    "#Print out all of the R square\n",
    "print(rsquare)\n"
   ]
  },
  {
   "cell_type": "markdown",
   "metadata": {},
   "source": [
    "##### The higher R square means that the observed variation can be better explained by the model's inputs. Therefore, the model 4 is the best model of the five. And the ranking of the model will be model 4, model 5, model 3, model 1, and model 2."
   ]
  },
  {
   "cell_type": "markdown",
   "metadata": {},
   "source": [
    "#### Compare the P-value"
   ]
  },
  {
   "cell_type": "code",
   "execution_count": 12,
   "metadata": {},
   "outputs": [
    {
     "name": "stdout",
     "output_type": "stream",
     "text": [
      "       pvalue1   pvalue2   pvalue3   pvalue4   pvalue5\n",
      "[1,] 0.6186822 0.8272796 0.5395232 0.1775076 0.3002891\n"
     ]
    }
   ],
   "source": [
    "#Select the p-value from model 1\n",
    "pvalue1<-mod1s$coefficients[2,4]  \n",
    "\n",
    "#Select the p-value from model 2\n",
    "pvalue2<-mod2s$coefficients[2,4] \n",
    "\n",
    "#Select the p-value from model 3\n",
    "pvalue3<-mod3s$coefficients[2,4] \n",
    "\n",
    "#Select the p-value from model 4\n",
    "pvalue4<-mod4s$coefficients[2,4] \n",
    "\n",
    "#Select the p-value from model 5\n",
    "pvalue5<-mod5s$coefficients[2,4] \n",
    "\n",
    "#Combine all the p-value\n",
    "pvalue<-cbind(pvalue1,pvalue2,pvalue3,pvalue4,pvalue5)\n",
    "\n",
    "#Print out all of the p-value\n",
    "print(pvalue)\n"
   ]
  },
  {
   "cell_type": "markdown",
   "metadata": {},
   "source": [
    "#### The smaller p-value means that the probability of showing an extreme observed outcome under the null hypothesis would be very low. Therefore, model 4 is the best model of the five which is because it has the lowest p-value."
   ]
  },
  {
   "cell_type": "markdown",
   "metadata": {},
   "source": [
    "##### According to the result above, the model 4 is the best model of them all."
   ]
  },
  {
   "cell_type": "markdown",
   "metadata": {},
   "source": [
    "### 5. Multiple Linear Regression"
   ]
  },
  {
   "cell_type": "code",
   "execution_count": 13,
   "metadata": {},
   "outputs": [
    {
     "data": {
      "text/plain": [
       "\n",
       "Call:\n",
       "lm(formula = confidence ~ want + gold + upset + disapoint + choices, \n",
       "    data = all)\n",
       "\n",
       "Residuals:\n",
       "    Min      1Q  Median      3Q     Max \n",
       "-5.4772 -1.8383  0.1258  1.7008  3.7084 \n",
       "\n",
       "Coefficients:\n",
       "            Estimate Std. Error t value Pr(>|t|)  \n",
       "(Intercept)   4.4061     2.3310   1.890   0.0714 .\n",
       "want         -0.2070     0.2204  -0.939   0.3574  \n",
       "gold         -0.1528     0.2641  -0.579   0.5684  \n",
       "upset         0.2862     0.2249   1.273   0.2158  \n",
       "disapoint    -0.1878     0.1816  -1.034   0.3117  \n",
       "choices       0.5052     0.2225   2.270   0.0329 *\n",
       "---\n",
       "Signif. codes:  0 '***' 0.001 '**' 0.01 '*' 0.05 '.' 0.1 ' ' 1\n",
       "\n",
       "Residual standard error: 2.706 on 23 degrees of freedom\n",
       "  (3 observations deleted due to missingness)\n",
       "Multiple R-squared:  0.2645,\tAdjusted R-squared:  0.1046 \n",
       "F-statistic: 1.654 on 5 and 23 DF,  p-value: 0.1858\n"
      ]
     },
     "metadata": {},
     "output_type": "display_data"
    },
    {
     "data": {
      "image/png": "[encoded data removed]",
      "text/plain": [
       "plot without title"
      ]
     },
     "metadata": {},
     "output_type": "display_data"
    }
   ],
   "source": [
    "#Use cbind to conbind the data 'confidence' and 'want'\n",
    "all<-cbind(want,gold,upset,disapoint,choices)\n",
    "#Transfer the data into data frame\n",
    "all<-as.data.frame(all)\n",
    "#Create multiple linear regression between 'confident person' and all the variations above\n",
    "mod6 = lm(formula = confidence ~ want+gold+upset+disapoint+choices, data = all)\n",
    "#Print out the summary th check it's R square\n",
    "summary(mod6)\n",
    "#Create a plot showing the correlation\n",
    "plot(all)"
   ]
  },
  {
   "cell_type": "markdown",
   "metadata": {},
   "source": [
    "##### According to the result above, the multiple linear regression seems to have a better explanation of the data because the r square is higher than any of the models above."
   ]
  },
  {
   "cell_type": "markdown",
   "metadata": {},
   "source": [
    "### 6. Summary"
   ]
  },
  {
   "cell_type": "markdown",
   "metadata": {},
   "source": [
    "According to the result above, question number 5 which is asking \"You rarely think back on the choices you made and wonder what you could have done differently\" has the highest correlation with the confident person which means that people with confidence don't care what others think of them."
   ]
  },
  {
   "cell_type": "markdown",
   "metadata": {},
   "source": [
    "And most of the results above in line with our expectations, only the second question which is asking that \"You are dedicated and focused on your goals, only rarely getting sidetracked.\" have the opposite outcome of our expectation. But the negative correlation is quite small so there might have a different result if we use larger data. Therefore, we could say that those people with confidence tend to be less affected by others and focus on their own decision."
   ]
  },
  {
   "cell_type": "markdown",
   "metadata": {},
   "source": [
    "### 7. Recommendations"
   ]
  },
  {
   "cell_type": "markdown",
   "metadata": {},
   "source": [
    "All of the questions in the personality test are great but I think we could collect more data by asking all the college students in San Francisco writing this test, so we could find a more accurate correlation between each question. This is actually the problem that I have been faced when I was doing the analysis and I was hoping to see different result from my regression, so I highly recommend San Francisco County's representatives let more students in college take this personality test."
   ]
  }
 ],
 "metadata": {
  "kernelspec": {
   "display_name": "R",
   "language": "R",
   "name": "ir"
  },
  "language_info": {
   "codemirror_mode": "r",
   "file_extension": ".r",
   "mimetype": "text/x-r-source",
   "name": "R",
   "pygments_lexer": "r",
   "version": "3.6.1"
  }
 },
 "nbformat": 4,
 "nbformat_minor": 4
}
